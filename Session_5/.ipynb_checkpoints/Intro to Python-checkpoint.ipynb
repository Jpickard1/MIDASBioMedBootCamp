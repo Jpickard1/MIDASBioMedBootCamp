{
 "cells": [
  {
   "cell_type": "markdown",
   "id": "cc8c6eff",
   "metadata": {},
   "source": [
    "# Introduction to Python\n"
   ]
  },
  {
   "cell_type": "code",
   "execution_count": null,
   "id": "02ed7a1d",
   "metadata": {},
   "outputs": [],
   "source": [
    "# Basic Python Functions\n",
    "print(\"Hello World\")"
   ]
  },
  {
   "cell_type": "markdown",
   "id": "2c7e18cb",
   "metadata": {},
   "source": [
    "# Fundamentals of Programming\n",
    "\n",
    "The goal of using python is to allow us to explore the implementation of concepts covered in earlier sessions. To do this, we need to cover the main parts of any program:\n",
    "1. Variables \n",
    "2. Control Flow\n",
    "3. Data Structures"
   ]
  },
  {
   "cell_type": "markdown",
   "id": "31df3e93",
   "metadata": {},
   "source": [
    "## Variables\n",
    "\n",
    "The purpose of a variable is to store data in the program. As with all programming languages, Python allows for variables to store: \n",
    "\n",
    "1. Boolean (True/False)\n",
    "2. Strings (Words)\n",
    "3. Integers or floats (Numbers)\n",
    "\n",
    "The names of variables must start with letters (not numbers).\n",
    "\n",
    "All variables should allow for:\n",
    "1. Assignment (create a variable and assign it a value)\n",
    "2. Modification (reassign the value)\n",
    "3. Reference (access the value)\n",
    "\n",
    "In the case of a number, these operations are standard arithmetic operations (=,+,-,/,*)."
   ]
  },
  {
   "cell_type": "markdown",
   "id": "13fe5ab9",
   "metadata": {},
   "source": [
    "### Assignment\n",
    "\n",
    "Assignment creates a new variable and gives it a value."
   ]
  },
  {
   "cell_type": "code",
   "execution_count": null,
   "id": "e141cf1e",
   "metadata": {},
   "outputs": [],
   "source": [
    "x = 10\n",
    "print(x)"
   ]
  },
  {
   "cell_type": "markdown",
   "id": "8212f646",
   "metadata": {},
   "source": [
    "### Modification\n",
    "\n",
    "Modifying a variable is similar to assigning a value to a variable that already exist. In the case below, the variable 'x' has already been created and has a value of 10, so the code below will modify the value of the preexisting variable."
   ]
  },
  {
   "cell_type": "code",
   "execution_count": null,
   "id": "842a5311",
   "metadata": {},
   "outputs": [],
   "source": [
    "x = 5\n",
    "print(x)"
   ]
  },
  {
   "cell_type": "markdown",
   "id": "b49ff20a",
   "metadata": {},
   "source": [
    "### Referece\n",
    "\n",
    "Referencing the variable gives access to the value it stores to another part of the program. For example, in the above boxes of code, every time we call 'print(x)' we print the value of 'x'. With numbers, when we reference them we often do modification or assignment at the same time."
   ]
  },
  {
   "cell_type": "code",
   "execution_count": null,
   "id": "4aea1a44",
   "metadata": {},
   "outputs": [],
   "source": [
    "# References to x\n",
    "print(x+1)\n",
    "print(x-1)\n",
    "print(x*2)\n",
    "print(x/2)"
   ]
  },
  {
   "cell_type": "code",
   "execution_count": null,
   "id": "9895a857",
   "metadata": {},
   "outputs": [],
   "source": [
    "# References and assignment\n",
    "x = x + 1\n",
    "print(x)\n",
    "x = x - 1\n",
    "print(x)\n",
    "x = x * 2\n",
    "print(x)\n",
    "x = x / 2\n",
    "print(x)"
   ]
  },
  {
   "cell_type": "markdown",
   "id": "25f2c154",
   "metadata": {},
   "source": [
    "## Control Flow\n",
    "\n",
    "Control flow is the order in which lines of code are accessed. When a program begins, the top line of code is always executed first (as we have seen above), but each line of code directs which line will be next. We will see control flow in the form of:\n",
    "1. If/Else\n",
    "2. Loops\n",
    "3. Functions\n",
    "\n",
    "TIP: In Python, the indentation of a line of code can be used to determine how that line gets accessed. The more indented line $A$ is in the code, the more other lines of code must be executed in correspondence with line $A$."
   ]
  },
  {
   "cell_type": "markdown",
   "id": "a5ad809e",
   "metadata": {},
   "source": [
    "### If/Else\n",
    "\n",
    "In an `if` statement, when the condition is true, the following line of code is executed, but when the condition is not true, the execution step will jump to the next `if`, `elif` (else if), or `else` statement. For a set of `if` statements, once a section has been executed, the code skips checking the remaining `if`, `elif`, or `else` conditions. The condition being checked, also know as a predicate, must take the form of an expression that evaluates to `True` or `False`.\n",
    "\n",
    "For example, the conditions could be `x < 5`, `x > 5` and `x == 5` (`x` equals 5) must always be either True or False, and the truth value of these statments depends on the value of `x`. These are good predicates.\n",
    "\n",
    "However, the statments `x < 5 and x > 5` and `x == 5 or x != 5` are both bad predicates. The first one is bad because it is always `False.` No number can be both smaller and greater than 5. The second predicate is bad because it is always `True`. Every number is either equal to 5 or not equal to 5, so no matter the value of `x`, the first predicate is `False` and the second predicate is `True`.\n",
    "\n",
    "In Python, we use the following commands to check relationships among variables:\n",
    "* Greater than: `>`\n",
    "* Less than: `<`\n",
    "* Greater than or equal to: `>=`\n",
    "* Less than or equal to: `<=`\n",
    "* Equal: `==` (note how this is different than variable assignment with `=`)\n",
    "* Not equal `!=`"
   ]
  },
  {
   "cell_type": "code",
   "execution_count": null,
   "id": "888e987b",
   "metadata": {},
   "outputs": [],
   "source": [
    "x = 5\n",
    "if x == 5: # This is True\n",
    "    print(\"x=5\") # Because the predicate is true, this line will execute\n",
    "elif x < 6: # This is also true\n",
    "    print(\"x<6\") # This line will not execute because the code for the first predicate was already executed\n",
    "else:\n",
    "    print(\"else\")"
   ]
  },
  {
   "cell_type": "markdown",
   "id": "876908d2",
   "metadata": {},
   "source": [
    "Note: The `if` `elif` and `else` lines had no indentation, but the `print` lines were indented. This represents how the conditions must be checked before running the `print` lines."
   ]
  },
  {
   "cell_type": "markdown",
   "id": "a7472979",
   "metadata": {},
   "source": [
    "### Loops in Python\n",
    "\n",
    "A loop in Python is a set of code that will execute as long as a condition is `True`. Below we see a `while` loop and a `for` loop. The below loops have different syntax, but will produce the same result.\n",
    "\n",
    "In the `for` loop, the variable, in this case `i`, will always begin at 0 and be increased by 1 at each iteration through the loop. It is common in most programming languages, including Python, that loops and indexes begin at 0 rather than 1, and we will see this throughout our code.\n",
    "\n",
    "Similar to `if` statements, loops rely on a predicate at the beginning of each loop to determine if the loop needs to be executed again. The rules for creating `if` statements apply the same for creating these predicates. "
   ]
  },
  {
   "cell_type": "code",
   "execution_count": null,
   "id": "78213230",
   "metadata": {},
   "outputs": [],
   "source": [
    "x = 0\n",
    "while x < 5: # Predicate\n",
    "    print(x) # Execute code in loop\n",
    "    x = x + 1 # Execute code in loop"
   ]
  },
  {
   "cell_type": "code",
   "execution_count": null,
   "id": "8020d0ae",
   "metadata": {},
   "outputs": [],
   "source": [
    "for i in range(5): # Predicate\n",
    "    print(i) # Execute code in loop"
   ]
  },
  {
   "cell_type": "markdown",
   "id": "675fd6a1",
   "metadata": {},
   "source": [
    "### Functions\n",
    "\n",
    "A function is a section of code that will be executed each time it is called. Functions are useful because they allow us to write code once but use it many times. When the function is declared, no code is actually executed, it is just stored in memory for later use."
   ]
  },
  {
   "cell_type": "code",
   "execution_count": null,
   "id": "47e08098",
   "metadata": {},
   "outputs": [],
   "source": [
    "# Function declaration\n",
    "def hello_world():\n",
    "    print(\"Hello World\")"
   ]
  },
  {
   "cell_type": "code",
   "execution_count": null,
   "id": "b3847b60",
   "metadata": {},
   "outputs": [],
   "source": [
    "# Calling the function\n",
    "hello_world()"
   ]
  },
  {
   "cell_type": "markdown",
   "id": "b80031d1",
   "metadata": {},
   "source": [
    "## Data Structures and an Introduction to NumPy\n",
    "\n",
    "A data structure is like a large variable in the sense that it should have\n",
    "1. Assignment\n",
    "2. Modification\n",
    "3. Reference\n",
    "\n",
    "A data structure is a type of variable that rather than having 1 data type (Boolean, String, Number) it stores multiple variables. For example, an array is one of the simplest types of data structures that stores multiple variables back to back. "
   ]
  },
  {
   "cell_type": "code",
   "execution_count": null,
   "id": "07a977a1",
   "metadata": {},
   "outputs": [],
   "source": [
    "# Assign x to be an array of numbers\n",
    "x = [0,1,2,3]\n",
    "print(x)\n",
    "\n",
    "# Modify x\n",
    "x[0] = 4\n",
    "print(x)\n",
    "\n",
    "# Reference x\n",
    "y = x\n",
    "print(y)\n",
    "\n",
    "# Reference an element in x\n",
    "z = x[3]\n",
    "print(z)"
   ]
  },
  {
   "cell_type": "markdown",
   "id": "29dc8d60",
   "metadata": {},
   "source": [
    "### NumPy\n",
    "\n",
    "NumPy is a library that we will use to store arrays of numbers. We use this library, rather than creating arrays similar to what we did above, because the library is much more efficient and has a number of already implemented functions for dealing with large data structures."
   ]
  },
  {
   "cell_type": "code",
   "execution_count": null,
   "id": "a4b25330",
   "metadata": {},
   "outputs": [],
   "source": [
    "# NumPy\n",
    "import numpy as np"
   ]
  },
  {
   "cell_type": "code",
   "execution_count": null,
   "id": "fc81ec4a",
   "metadata": {},
   "outputs": [],
   "source": [
    "x = np.array([[1,2,3],[4,5,6]])\n",
    "print(x)\n",
    "print(x.shape)\n",
    "print(x.size)"
   ]
  },
  {
   "cell_type": "code",
   "execution_count": null,
   "id": "14d7e1a6",
   "metadata": {},
   "outputs": [],
   "source": [
    "# Slicing\n",
    "for i in x:\n",
    "    print(i)"
   ]
  },
  {
   "cell_type": "code",
   "execution_count": null,
   "id": "476448a3",
   "metadata": {},
   "outputs": [],
   "source": [
    "# Indexing\n",
    "for i in x:\n",
    "    for j in i:\n",
    "        print(j)"
   ]
  },
  {
   "cell_type": "code",
   "execution_count": null,
   "id": "b5009864",
   "metadata": {},
   "outputs": [],
   "source": [
    "print(x)\n",
    "y = x.reshape(3,2)\n",
    "print(y)\n"
   ]
  },
  {
   "cell_type": "code",
   "execution_count": null,
   "id": "11ea563f",
   "metadata": {},
   "outputs": [],
   "source": [
    "# Functions for NumPy arrays\n",
    "x = np.array([1,2,3,4,5,6,7,8,9])\n",
    "print(np.max(x)) # Maximum value in the array\n",
    "print(np.min(x)) # Minimum value in the array\n",
    "print(np.argmax(x)) # Location of the maximum value in the array \n",
    "print(np.argmin(x)) # Location of the minimum value in the array\n",
    "print(np.mean(x)) # Average or mean value in the array\n",
    "print(np.median(x)) # Median value in the array\n",
    "print(np.std(x)) # Standard deviation in the array"
   ]
  },
  {
   "cell_type": "code",
   "execution_count": null,
   "id": "5a2a0f5e",
   "metadata": {
    "scrolled": true
   },
   "outputs": [],
   "source": [
    "# Special Functions in NumPy\n",
    "import matplotlib.pyplot as plt\n",
    "x = np.arange(0.01,10,0.01)\n",
    "y = np.log(x)\n",
    "plt.plot(x,y)\n",
    "plt.title(\"Log Function\")\n",
    "plt.xlabel(\"x value\")\n",
    "plt.ylabel(\"y value\")"
   ]
  },
  {
   "cell_type": "code",
   "execution_count": null,
   "id": "da013c23",
   "metadata": {},
   "outputs": [],
   "source": [
    "x = np.arange(0,10,0.01)\n",
    "y = np.exp(x)\n",
    "plt.plot(x,y)\n",
    "plt.title(\"Exponential Function\")\n",
    "plt.xlabel(\"x value\")\n",
    "plt.ylabel(\"y value\") "
   ]
  },
  {
   "cell_type": "code",
   "execution_count": null,
   "id": "9050b87d",
   "metadata": {},
   "outputs": [],
   "source": [
    "x = np.arange(0,3*np.pi, 0.01)\n",
    "y = np.sin(x)\n",
    "plt.plot(x,y)\n",
    "plt.title(\"Sin Function\")\n",
    "plt.xlabel(\"x value\")\n",
    "plt.ylabel(\"y value\")"
   ]
  },
  {
   "cell_type": "code",
   "execution_count": null,
   "id": "c7475ce2-f1bf-4819-9609-3f5624b997c7",
   "metadata": {},
   "outputs": [],
   "source": [
    " "
   ]
  }
 ],
 "metadata": {
  "kernelspec": {
   "display_name": "Python 3",
   "language": "python",
   "name": "python3"
  },
  "language_info": {
   "codemirror_mode": {
    "name": "ipython",
    "version": 3
   },
   "file_extension": ".py",
   "mimetype": "text/x-python",
   "name": "python",
   "nbconvert_exporter": "python",
   "pygments_lexer": "ipython3",
   "version": "3.8.5"
  }
 },
 "nbformat": 4,
 "nbformat_minor": 5
}
