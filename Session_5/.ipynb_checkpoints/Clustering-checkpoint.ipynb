{
 "cells": [
  {
   "cell_type": "markdown",
   "id": "9f8f948c",
   "metadata": {},
   "source": [
    "# Introduction to Clustering"
   ]
  },
  {
   "cell_type": "code",
   "execution_count": null,
   "id": "76d0dc73",
   "metadata": {},
   "outputs": [],
   "source": [
    "import sklearn\n",
    "from sklearn import cluster\n",
    "import matplotlib.pyplot as plt\n",
    "import numpy as np\n",
    "import pandas as pd "
   ]
  },
  {
   "cell_type": "markdown",
   "id": "ad117087",
   "metadata": {},
   "source": [
    "## Load Data Set 1"
   ]
  },
  {
   "cell_type": "code",
   "execution_count": null,
   "id": "f53f5442",
   "metadata": {
    "scrolled": true
   },
   "outputs": [],
   "source": [
    "df = pd.read_csv('2D data.csv')\n",
    "X1 = df.values\n",
    "plt.scatter(X1[:, 0], X1[:, 1]);"
   ]
  },
  {
   "cell_type": "markdown",
   "id": "52c24aca",
   "metadata": {},
   "source": [
    "### Visualize the Data"
   ]
  },
  {
   "cell_type": "code",
   "execution_count": null,
   "id": "9c9adb4f",
   "metadata": {},
   "outputs": [],
   "source": [
    "plt.scatter(X1[:, 0], X1[:, 1]);"
   ]
  },
  {
   "cell_type": "code",
   "execution_count": null,
   "id": "d018511c",
   "metadata": {},
   "outputs": [],
   "source": [
    "plt.scatter(X1[:, 0], X1[:, 1]);\n",
    "plt.ylim(-60, 60)"
   ]
  },
  {
   "cell_type": "markdown",
   "id": "4198873f",
   "metadata": {},
   "source": [
    "## Sklearn Clustering\n",
    "\n",
    "The Sklearn library proides a number of off the shelf clustering algorithms. Below are examples of 3 different ways to cluster data poins: \n",
    "1. Kmeans Clustering\n",
    "2. Spectral clustering\n",
    "3. Agglomerative or Hierarchical Clustering\n",
    "\n",
    "We will first explore these 3 algorithms on the data set visualized above, and 2 other simple data sets below. The goal is to gain an understanding of the effectiveness and trade offs between the algorithms. Then we will move to another data set, which contains 15 dimensional data. There the goal will be to explore the Sklearn library and use it to practice clustering the data set using different algorithms. More information on the different clustering algorithms provided in the library can be found at:\n",
    "https://scikit-learn.org/stable/modules/clustering.html#k-means"
   ]
  },
  {
   "cell_type": "markdown",
   "id": "8884ccf0",
   "metadata": {},
   "source": [
    "### Kmeans Clustering"
   ]
  },
  {
   "cell_type": "code",
   "execution_count": null,
   "id": "11d1c497",
   "metadata": {},
   "outputs": [],
   "source": [
    "kmeans = cluster.KMeans(n_clusters=5)\n",
    "kmeans.fit(X1)\n",
    "y_predictions = kmeans.predict(X1)\n",
    "plt.scatter(X1[:, 0], X1[:, 1], c=y_predictions)"
   ]
  },
  {
   "cell_type": "markdown",
   "id": "cc2852e3",
   "metadata": {},
   "source": [
    "### Spectral Clustering"
   ]
  },
  {
   "cell_type": "code",
   "execution_count": null,
   "id": "7aa2da2d",
   "metadata": {},
   "outputs": [],
   "source": [
    "spectral = cluster.SpectralClustering(n_clusters = 5)\n",
    "spectral.fit(X1)\n",
    "y_predictions = spectral.fit_predict(X1)\n",
    "plt.scatter(X1[:, 0], X1[:, 1], c=y_predictions)"
   ]
  },
  {
   "cell_type": "markdown",
   "id": "5711b1b0",
   "metadata": {},
   "source": [
    "### Agglomerative Clustering"
   ]
  },
  {
   "cell_type": "code",
   "execution_count": null,
   "id": "cd23cbcc",
   "metadata": {},
   "outputs": [],
   "source": [
    "agglomerative = sklearn.cluster.AgglomerativeClustering(n_clusters = 5)\n",
    "agglomerative.fit(X1)\n",
    "y_predictions = agglomerative.labels_\n",
    "plt.scatter(X1[:, 0], X1[:, 1], c=y_predictions)"
   ]
  },
  {
   "cell_type": "markdown",
   "id": "fc8a249d",
   "metadata": {},
   "source": [
    "## Additional Data Sets\n",
    "\n",
    "Below we have simulated data sets that highlight the shortcomings of some of the above algorithms. These data sets are interesting because while it is easy to visualize them and identify the clusters, the overlapping nature in them makes it challenging for the algorithms to correctly separate them."
   ]
  },
  {
   "cell_type": "code",
   "execution_count": null,
   "id": "fe0aee8c",
   "metadata": {},
   "outputs": [],
   "source": [
    "df = pd.read_csv('X1.csv')\n",
    "X1 = df.values\n",
    "plt.scatter(X1[:, 0], X1[:, 1]);"
   ]
  },
  {
   "cell_type": "code",
   "execution_count": null,
   "id": "c1ec6e50",
   "metadata": {},
   "outputs": [],
   "source": [
    "df = pd.read_csv('X2.csv')\n",
    "X2 = df.values\n",
    "plt.scatter(X2[:, 0], X2[:, 1]);"
   ]
  },
  {
   "cell_type": "markdown",
   "id": "e993ff4d",
   "metadata": {},
   "source": [
    "While there are clearly 2 distinct groups in both data sets above, separating them can becomes an interesting problem. In the cell below, choose a data set and one of the above clustering algorithsm (or another clustering method from the sklearn library) and see how it runs on these data sets."
   ]
  },
  {
   "cell_type": "code",
   "execution_count": null,
   "id": "dc40d77d",
   "metadata": {},
   "outputs": [],
   "source": [
    "# Set the data set to X1 or X2\n",
    "data = X2\n",
    "# Fill in the clustering algorithm here. Make sure to give the argument (n_clusters=2)\n",
    "model = cluster.SpectralClustering(n_clusters=2)\n",
    "# Have the model execute the clustering algorithm\n",
    "model.fit(data)\n",
    "# Get the cluster labels of each point\n",
    "y_predictions = model.labels_\n",
    "# Create a scatter plot based on the data\n",
    "plt.scatter(data[:, 0], data[:, 1], c=y_predictions)"
   ]
  },
  {
   "cell_type": "markdown",
   "id": "4c51c927",
   "metadata": {},
   "source": [
    "A great overview of clustering algorithms is given at: https://scikit-learn.org/stable/modules/clustering.html In the image below, it shows how a number of clustering algorithms will preform on different types of data sets. In the cell above, we did a similar experiment using data sets similar to the top 2 rows of this diagram. It's important to now that the run time of each algorithm on each data set is given in the bottom right corner. While Spectral CLustering is the best performing algorithm (of the 3 we have seen so far), it generally takes longer to run. "
   ]
  },
  {
   "cell_type": "markdown",
   "id": "d46ce881",
   "metadata": {},
   "source": [
    "![title](imgs/clustering_algorithm_comparisons.png)"
   ]
  },
  {
   "cell_type": "markdown",
   "id": "3ca33a0d",
   "metadata": {},
   "source": [
    "# Exercise\n",
    "\n",
    "Now that we have used 3 different clustering algorithms on this data set, we will continue by loading in data set 2, which contains 15 dimensional data. Once it is loaded and we analize the number of clusters, we should revisit the link above and explore the other clustering options provided in Sklearn.\n",
    "\n",
    "https://scikit-learn.org/stable/modules/clustering.html"
   ]
  },
  {
   "cell_type": "markdown",
   "id": "6bbb0574",
   "metadata": {},
   "source": [
    "## Load Data Set 2"
   ]
  },
  {
   "cell_type": "code",
   "execution_count": null,
   "id": "973aa6ee",
   "metadata": {
    "scrolled": true
   },
   "outputs": [],
   "source": [
    "df = pd.read_csv('15D data.csv')\n",
    "X2 = df.values"
   ]
  },
  {
   "cell_type": "markdown",
   "id": "c0228224",
   "metadata": {},
   "source": [
    "## Visualize the Data"
   ]
  },
  {
   "cell_type": "code",
   "execution_count": null,
   "id": "c9d83f0a",
   "metadata": {},
   "outputs": [],
   "source": [
    "plt.figure(0)\n",
    "plt.scatter(X2[:, 0], X2[:, 1]);\n",
    "plt.figure(1)\n",
    "plt.scatter(X2[:, 2], X2[:, 3]);\n",
    "plt.figure(2)\n",
    "plt.scatter(X2[:, 4], X2[:, 5]);"
   ]
  },
  {
   "cell_type": "markdown",
   "id": "6664dcec",
   "metadata": {},
   "source": [
    "## Analyze the Number of Clusters\n",
    "\n",
    "In data set 1, we were able to see the number of clusters in the data se by visually inspecting it. However, since we can't visualize 15 dimensional data, we must find another method for determining the correct number of clusters. One such method is to define a metric that is a measure of how good the clusters we form are. Using a metric like this, we can apply a clustering algorithm to the data set and measure which number of clusters is optimal. With the Davis-Bouldin metric, the optimal number of clusters has the lowest Davis-Bouldin score.\n",
    "\n",
    "In the code below, we will do this with the Davis-Bouldin Clustering Metric, but Sklearn provides a number of other metrics which can similarly be used. More information can be found here: https://scikit-learn.org/stable/modules/generated/sklearn.metrics.davies_bouldin_score.html"
   ]
  },
  {
   "cell_type": "code",
   "execution_count": null,
   "id": "04112031",
   "metadata": {},
   "outputs": [],
   "source": [
    "number_of_clusters = np.zeros(16)\n",
    "davies_bouldin_score = np.zeros(16)\n",
    "for i in range(2,len(number_of_clusters),1):\n",
    "    number_of_clusters[i] = i\n",
    "    kmeans = sklearn.cluster.KMeans(n_clusters=i)\n",
    "    kmeans.fit(X2)\n",
    "    labels = kmeans.labels_\n",
    "    davies_bouldin_score[i] = sklearn.metrics.davies_bouldin_score(X2, labels)\n",
    "    \n",
    "plt.plot(number_of_clusters, davies_bouldin_score)\n",
    "plt.xlim(2,16)\n",
    "plt.xlabel(\"Number of Clusters\")\n",
    "plt.ylabel(\"Davis-Bouldin Score\")\n",
    "plt.title(\"Optimal Number of Clusters\")"
   ]
  },
  {
   "cell_type": "markdown",
   "id": "0f67de79",
   "metadata": {},
   "source": [
    "Using the optimal number of clusters we found able and any clustering algorithm provided in Sklearn, now cluster this data set."
   ]
  },
  {
   "cell_type": "code",
   "execution_count": null,
   "id": "7d38249b",
   "metadata": {},
   "outputs": [],
   "source": [
    " "
   ]
  }
 ],
 "metadata": {
  "kernelspec": {
   "display_name": "Python 3",
   "language": "python",
   "name": "python3"
  },
  "language_info": {
   "codemirror_mode": {
    "name": "ipython",
    "version": 3
   },
   "file_extension": ".py",
   "mimetype": "text/x-python",
   "name": "python",
   "nbconvert_exporter": "python",
   "pygments_lexer": "ipython3",
   "version": "3.8.5"
  }
 },
 "nbformat": 4,
 "nbformat_minor": 5
}
