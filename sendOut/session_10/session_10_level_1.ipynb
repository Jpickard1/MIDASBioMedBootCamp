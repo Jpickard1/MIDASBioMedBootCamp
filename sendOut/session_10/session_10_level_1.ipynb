{
 "cells": [
  {
   "cell_type": "markdown",
   "id": "broke-cooper",
   "metadata": {
    "id": "broke-cooper"
   },
   "source": [
    "# Session 10\n",
    "## Introduction\n",
    "Today we're going to build:\n",
    "\n",
    "- Linear Regression\n",
    "- Logistic Regression\n",
    "- Ridge Regression \n",
    "- Naive Bayes \n",
    "\n",
    "using health related data. Struecture codes will be provided. Along the way, we'll play with some fun Python codes. By the end, we'll have a complete model building process."
   ]
  },
  {
   "cell_type": "markdown",
   "id": "current-representative",
   "metadata": {
    "id": "current-representative"
   },
   "source": [
    "**Please make sure the downloaded data are in the same folder as listed in the drive so that the data loading process will go smoothly.**"
   ]
  },
  {
   "cell_type": "markdown",
   "id": "banner-correction",
   "metadata": {
    "id": "banner-correction"
   },
   "source": [
    "In **introduction**, you will work with a simplified sBP dataset that have been consolidated into one```'TXT'``` file available in the data folder as ```'dataset1.txt'```. Specifically, your goal will be to use this data to predict the systolic blood pressure (sBP) of a patient based on the patient's age. \n",
    "\n",
    "Since the target variable here is quantitative, this is a regression problem. To begin, we will start with simplest case. You will fit a simple linear regression with just one feature: ```age```. To make the introduction easy to understand, we will not split train and test data but focus more on the model fitting part.\n",
    "\n",
    "Before that, however, you need to import the data and get it into the form needed by scikit-learn. This involves creating feature and target variable arrays. Furthermore, since you are going to use only one feature to begin with, you need to do some reshaping using NumPy's ```.reshape()``` method. "
   ]
  },
  {
   "cell_type": "markdown",
   "id": "national-syria",
   "metadata": {
    "id": "national-syria"
   },
   "source": [
    "### Import packages"
   ]
  },
  {
   "cell_type": "markdown",
   "id": "universal-routine",
   "metadata": {
    "id": "universal-routine"
   },
   "source": [
    "**In the first cell we are going to import packages and classes.\n",
    "It is a good habit to install packages at the beginning of the codes, but for illustration purpose, we import packages at the beginning of each section.**"
   ]
  },
  {
   "cell_type": "code",
   "execution_count": 1,
   "id": "operating-variable",
   "metadata": {
    "id": "operating-variable"
   },
   "outputs": [],
   "source": [
    "# Data manipulation\n",
    "import pandas as pd \n",
    "import numpy as np \n",
    "\n",
    "# Model building\n",
    "from sklearn.linear_model import LinearRegression\n",
    "# Visualization\n",
    "import matplotlib.pyplot as plt \n",
    "import seaborn as sns \n",
    "from matplotlib import style\n",
    "\n",
    "# Evaluation metrics\n",
    "from sklearn.metrics import mean_squared_error \n",
    "from sklearn.metrics import mean_absolute_error \n",
    "# import statsmodels.api as sm\n",
    "\n",
    "from termcolor import colored as cl\n",
    "# Split train and test sets\n",
    "from sklearn.model_selection import train_test_split\n",
    "\n",
    "# Load model package\n",
    "from sklearn.linear_model import LogisticRegression\n",
    "\n",
    "# Display the plot in notebook and make plots sorted\n",
    "%matplotlib inline "
   ]
  },
  {
   "cell_type": "markdown",
   "id": "genuine-phoenix",
   "metadata": {
    "id": "genuine-phoenix"
   },
   "source": [
    "### Simple linear regression"
   ]
  },
  {
   "cell_type": "code",
   "execution_count": null,
   "id": "regulation-payment",
   "metadata": {
    "id": "regulation-payment"
   },
   "outputs": [],
   "source": [
    "# Download data to data folder\n",
    "health_df_1 = pd.read_csv('./data/dataset1.txt', delimiter = \",\")"
   ]
  },
  {
   "cell_type": "markdown",
   "id": "heard-syntax",
   "metadata": {
    "id": "heard-syntax"
   },
   "source": [
    "To check what is the data type for load-in data, we can use type() function."
   ]
  },
  {
   "cell_type": "code",
   "execution_count": null,
   "id": "gothic-cliff",
   "metadata": {
    "id": "gothic-cliff"
   },
   "outputs": [],
   "source": [
    "type(health_df_1)"
   ]
  },
  {
   "cell_type": "markdown",
   "id": "absolute-presence",
   "metadata": {
    "id": "absolute-presence"
   },
   "source": [
    "**To double check whether table501.txt has been loaded succesfully and have a brief view on the data. Always list part of the data and check if they make sense.**"
   ]
  },
  {
   "cell_type": "code",
   "execution_count": null,
   "id": "bibliographic-experience",
   "metadata": {
    "id": "bibliographic-experience"
   },
   "outputs": [],
   "source": [
    "# Display the first 5 rows of the dataframe\n",
    "health_df_1.head()"
   ]
  },
  {
   "cell_type": "markdown",
   "id": "precious-shoot",
   "metadata": {
    "id": "precious-shoot"
   },
   "source": [
    "We will need to extract X and Y from the dataset by making a subset of the dataframe"
   ]
  },
  {
   "cell_type": "code",
   "execution_count": null,
   "id": "local-buyer",
   "metadata": {
    "id": "local-buyer"
   },
   "outputs": [],
   "source": [
    "# Extract X (SBP) and Y (Age)\n",
    "X = health_df_1.SBP\n",
    "# print(X)\n",
    "# To extract colum by colum index\n",
    "# X = health_df_1.iloc[:,0]\n",
    "# print(X)\n",
    "Y = health_df_1.Age\n",
    "\n",
    "print(\"Before any preprocessing, the shape of X array is:\", X.shape)\n",
    "# Call .reshape() on x because this array is required to be two-dimensional\n",
    "# For more information about the reshape function:\n",
    "# https://numpy.org/doc/stable/reference/generated/numpy.reshape.html\n",
    "X = X.to_numpy().reshape(-1, 1)\n",
    "print(\"Before reshaping, the shape of X array is:\", X.shape)\n",
    "Y = Y.to_numpy()\n",
    "print(\"The shape of Y array is:\", Y.shape)"
   ]
  },
  {
   "cell_type": "code",
   "execution_count": null,
   "id": "assured-renewal",
   "metadata": {
    "id": "assured-renewal"
   },
   "outputs": [],
   "source": [
    "illustration_array = np.array([[1,2,3],[4,5,6]])\n",
    "print(\"original shape\", illustration_array.shape)\n",
    "illustration_array_1 = illustration_array.reshape(3, -1)\n",
    "print(\"reshaped dim 1\", illustration_array_1.shape)\n",
    "illustration_array_2 = illustration_array.reshape(6, -1)\n",
    "print(\"reshaped dim 2\", illustration_array_2.shape)"
   ]
  },
  {
   "cell_type": "markdown",
   "id": "executive-niger",
   "metadata": {
    "id": "executive-niger"
   },
   "source": [
    "### Exploring the data (data visualization)\n",
    "As always, it is important to explore your data before building models. \n",
    "\n",
    "#### Histogram\n",
    "Histogram helps us to have a brief idea of the data distribution and monitor outliers."
   ]
  },
  {
   "cell_type": "code",
   "execution_count": null,
   "id": "designed-journal",
   "metadata": {
    "id": "designed-journal"
   },
   "outputs": [],
   "source": [
    "# Create a histogram with normal curve\n",
    "# An \"interface\" to matplotlib.axes.Axes.hist() method\n",
    "# Use funtion matplotlib.pyplot.hist(x, alpha=n)to plot histogram\n",
    "# For more infomation:\n",
    "# https://matplotlib.org/stable/api/_as_gen/matplotlib.pyplot.hist.html\n",
    "n, bins, patches = plt.hist(x=X, # Dataset to be visualized\n",
    "                            bins='auto', # Automatically \n",
    "                            color='#0504aa', # We chose a specific color here\n",
    "                            alpha=0.7, # Transparency\n",
    "                            rwidth=0.85) # the bin width in display\n",
    "plt.grid(axis='y', alpha=0.75) # Set the distance between horizontal lines and display the horizontal lines\n",
    "plt.xlabel('SBP') # Label name in the x-axis\n",
    "plt.ylabel('Count') # Label name in the y-axis\n",
    "plt.title('Histogram of SBP')# Title name of the main plot\n",
    "plt.show() # Show the plot in Notebooks"
   ]
  },
  {
   "cell_type": "markdown",
   "id": "ignored-portland",
   "metadata": {
    "id": "ignored-portland"
   },
   "source": [
    "#### Scatter plot\n",
    "While histogram helps us to have an insight about the distribution of the data, scatter plot helps us to better understand the relationship and overall trend between dependent and independent variables."
   ]
  },
  {
   "cell_type": "code",
   "execution_count": null,
   "id": "narrative-swaziland",
   "metadata": {
    "id": "narrative-swaziland"
   },
   "outputs": [],
   "source": [
    "# Create a scatterplot to further visualice the relationship between\n",
    "# SBP and Age\n",
    "plt.style.use('seaborn-whitegrid') # Grid setting\n",
    "plt.scatter(X, Y, color='#0504aa') # Same as the histogram function above cells, but this one creates a scatter plot\n",
    "plt.xlabel('SBP')\n",
    "plt.ylabel('Age')\n",
    "plt.title('Scatter plot of SBP')\n",
    "plt.show()"
   ]
  },
  {
   "cell_type": "markdown",
   "id": "obvious-distance",
   "metadata": {
    "id": "obvious-distance"
   },
   "source": [
    "As you can see, there is a strongly positive correlation, so a linear regression should be able to capture this trend. Your job is to fit a linear regression and then predict the life expectancy, overlaying these predicted values on the plot to generate a regression line. You will also compute and print the $R^2$ score using sckit-learn's ```.score()``` method."
   ]
  },
  {
   "cell_type": "markdown",
   "id": "complicated-first",
   "metadata": {
    "id": "complicated-first"
   },
   "source": [
    "#### Model building\n",
    "LinearRegression fits a linear model with coefficients w = (w1, …, wp) to minimize the residual sum of squares between the observed targets in the dataset, and the targets predicted by the linear approximation.\n",
    "\n",
    "https://scikit-learn.org/stable/modules/generated/sklearn.linear_model.LinearRegression.html"
   ]
  },
  {
   "cell_type": "code",
   "execution_count": null,
   "id": "maritime-recorder",
   "metadata": {
    "id": "maritime-recorder"
   },
   "outputs": [],
   "source": [
    "# Built linear regression model\n",
    "# Create model class. Currently the model has not been fitted yet.\n",
    "slr_model = LinearRegression()\n",
    "# Fit the model\n",
    "slr_model.fit(X, Y)\n",
    "# When we want to retrive some information in the fitted model\n",
    "# we can use model_name.variableToBeRetrived_\n",
    "intercept = slr_model.intercept_\n",
    "slope = slr_model.coef_\n",
    "print('intercept:', intercept)\n",
    "print('slope:', slope)\n",
    "# When we want to use the fitted model for prediction\n",
    "# use the model_name.predict(test_data) function\n",
    "y_pred = slr_model.predict(X)\n",
    "# print('predicted response:', y_pred, sep='\\n')\n",
    "y_pred = intercept + slope * X"
   ]
  },
  {
   "cell_type": "markdown",
   "id": "functional-weekly",
   "metadata": {
    "id": "functional-weekly"
   },
   "source": [
    "- red dots: predicted value\n",
    "- blue dots: original data\n",
    "- red line: fitted model"
   ]
  },
  {
   "cell_type": "code",
   "execution_count": null,
   "id": "marine-michael",
   "metadata": {
    "id": "marine-michael"
   },
   "outputs": [],
   "source": [
    "# Visualize regression\n",
    "plt.xlabel('SBP', fontsize=15)\n",
    "plt.ylabel('Age', fontsize=15)\n",
    "# Prediction\n",
    "plt.scatter(X, Y)\n",
    "plt.scatter(X, y_pred)\n",
    "plt.plot(X, y_pred, c = 'r', linewidth=5, alpha=.5, solid_capstyle='round')\n",
    "plt.show()"
   ]
  },
  {
   "cell_type": "markdown",
   "id": "national-strategy",
   "metadata": {
    "id": "national-strategy"
   },
   "source": [
    "### Choose an evaluation metric\n",
    "* We then need to compare these predictions with the actual result and measure them in some way.\n",
    "* This is where the selection of evaluation metric is important. For regression, we measure the distance between the predicted and actual answers in some way. The shorter the distance, the more correct the model is. \n",
    "* We cover three common metrics below:\n",
    "  * `Mean Absolute Error`: which provides a mean score for all the predicted versus actual values as an absolute value \n",
    "  * `Means Squared Error`: which provides a mean score for all the predicted versus actual values as a square of the absolute value\n",
    "  * `R2`: the proportion of the variance in the dependent variable that is predictable from the independent variable(s)"
   ]
  },
  {
   "cell_type": "code",
   "execution_count": null,
   "id": "electoral-advancement",
   "metadata": {
    "id": "electoral-advancement"
   },
   "outputs": [],
   "source": [
    "# Obtain the value of MSE \n",
    "MSE = mean_squared_error(Y, y_pred)\n",
    "print('MSE:', MSE)\n",
    "# Obtain the value of MAE \n",
    "MAE = mean_absolute_error(Y, y_pred)\n",
    "print('MAE:', MAE)"
   ]
  },
  {
   "cell_type": "code",
   "execution_count": 12,
   "id": "aquatic-extraction",
   "metadata": {
    "id": "aquatic-extraction"
   },
   "outputs": [],
   "source": [
    "# To output the p-value for feature\n",
    "import statsmodels.api as sm"
   ]
  },
  {
   "cell_type": "markdown",
   "id": "clean-sheep",
   "metadata": {
    "id": "clean-sheep"
   },
   "source": [
    "A p-value is a measure of the probability that an observed difference could have occurred just by random chance. The lower the p-value, the greater the statistical significance of the observed difference.\n",
    "\n",
    "AIC: https://en.wikipedia.org/wiki/Akaike_information_criterion\n",
    "\n",
    "BIC: https://en.wikipedia.org/wiki/Bayesian_information_criterion\n",
    "\n",
    "Statsmodels (a statistics package in Python): https://www.statsmodels.org/stable/generated/statsmodels.regression.linear_model.OLS.html"
   ]
  },
  {
   "cell_type": "code",
   "execution_count": null,
   "id": "lined-robertson",
   "metadata": {
    "id": "lined-robertson"
   },
   "outputs": [],
   "source": [
    "slm = sm.OLS(Y, X)\n",
    "fitted_slm = slm.fit()\n",
    "print(fitted_slm.summary())"
   ]
  },
  {
   "cell_type": "markdown",
   "id": "blind-parameter",
   "metadata": {
    "id": "blind-parameter"
   },
   "source": [
    "## Part 1: Multiple linear regression\n",
    "\n",
    "In **Part 1**, you will work with a slightly more complicated clinical dataset that have been consolidated into one ```'CSV'``` file available in the data folder as ```'smoke.csv'```. Specifically, your goal will be to use this data to predict the effect of mother’s smoking during pregnancy (pack/day) and mother’s age at childbirth (years) on birth weight of their infants (oz).\n",
    "\n",
    "In this section, you will learn how to examin the basic statistics and visualize the relationship between independent variables and split the dataset into ```train``` and ```test``` sets."
   ]
  },
  {
   "cell_type": "code",
   "execution_count": 2,
   "id": "ethical-cliff",
   "metadata": {
    "id": "ethical-cliff"
   },
   "outputs": [
    {
     "data": {
      "text/html": [
       "<div>\n",
       "<style scoped>\n",
       "    .dataframe tbody tr th:only-of-type {\n",
       "        vertical-align: middle;\n",
       "    }\n",
       "\n",
       "    .dataframe tbody tr th {\n",
       "        vertical-align: top;\n",
       "    }\n",
       "\n",
       "    .dataframe thead th {\n",
       "        text-align: right;\n",
       "    }\n",
       "</style>\n",
       "<table border=\"1\" class=\"dataframe\">\n",
       "  <thead>\n",
       "    <tr style=\"text-align: right;\">\n",
       "      <th></th>\n",
       "      <th>ID</th>\n",
       "      <th>Mother_age</th>\n",
       "      <th>Mother_smoking</th>\n",
       "      <th>Birth_weight</th>\n",
       "    </tr>\n",
       "  </thead>\n",
       "  <tbody>\n",
       "    <tr>\n",
       "      <th>0</th>\n",
       "      <td>1</td>\n",
       "      <td>18</td>\n",
       "      <td>1.0</td>\n",
       "      <td>110</td>\n",
       "    </tr>\n",
       "    <tr>\n",
       "      <th>1</th>\n",
       "      <td>2</td>\n",
       "      <td>23</td>\n",
       "      <td>1.3</td>\n",
       "      <td>97</td>\n",
       "    </tr>\n",
       "    <tr>\n",
       "      <th>2</th>\n",
       "      <td>3</td>\n",
       "      <td>34</td>\n",
       "      <td>2.0</td>\n",
       "      <td>88</td>\n",
       "    </tr>\n",
       "    <tr>\n",
       "      <th>3</th>\n",
       "      <td>4</td>\n",
       "      <td>19</td>\n",
       "      <td>2.0</td>\n",
       "      <td>92</td>\n",
       "    </tr>\n",
       "    <tr>\n",
       "      <th>4</th>\n",
       "      <td>5</td>\n",
       "      <td>22</td>\n",
       "      <td>1.4</td>\n",
       "      <td>105</td>\n",
       "    </tr>\n",
       "  </tbody>\n",
       "</table>\n",
       "</div>"
      ],
      "text/plain": [
       "   ID  Mother_age  Mother_smoking  Birth_weight\n",
       "0   1          18             1.0           110\n",
       "1   2          23             1.3            97\n",
       "2   3          34             2.0            88\n",
       "3   4          19             2.0            92\n",
       "4   5          22             1.4           105"
      ]
     },
     "execution_count": 2,
     "metadata": {},
     "output_type": "execute_result"
    }
   ],
   "source": [
    "# Load data\n",
    "health_df_2 = pd.read_csv('./data/smoke.csv')\n",
    "# View data structure\n",
    "health_df_2.head()"
   ]
  },
  {
   "cell_type": "code",
   "execution_count": 3,
   "id": "willing-fairy",
   "metadata": {
    "id": "willing-fairy"
   },
   "outputs": [
    {
     "name": "stdout",
     "output_type": "stream",
     "text": [
      "             ID  Mother_age  Mother_smoking  Birth_weight\n",
      "count  20.00000   20.000000       20.000000      20.00000\n",
      "mean   10.50000   24.900000        1.365000     103.00000\n",
      "std     5.91608    6.290343        0.791584      27.25513\n",
      "min     1.00000   16.000000        0.200000      22.00000\n",
      "25%     5.75000   20.000000        0.775000      89.50000\n",
      "50%    10.50000   22.500000        1.300000     102.50000\n",
      "75%    15.25000   29.500000        2.000000     120.75000\n",
      "max    20.00000   38.000000        3.000000     142.00000\n",
      "<class 'pandas.core.frame.DataFrame'>\n",
      "RangeIndex: 20 entries, 0 to 19\n",
      "Data columns (total 4 columns):\n",
      " #   Column          Non-Null Count  Dtype  \n",
      "---  ------          --------------  -----  \n",
      " 0   ID              20 non-null     int64  \n",
      " 1   Mother_age      20 non-null     int64  \n",
      " 2   Mother_smoking  20 non-null     float64\n",
      " 3   Birth_weight    20 non-null     int64  \n",
      "dtypes: float64(1), int64(3)\n",
      "memory usage: 768.0 bytes\n",
      "None\n",
      "\n",
      " The shape of dataset 2 is: (20, 4)\n"
     ]
    }
   ],
   "source": [
    "# Pandas has a lot of functionality to assist with exploratory data analysis\n",
    "# .describe() provide summary statistics on all numeric columns\n",
    "print(health_df_2.describe())\n",
    "# Similarly, you can also use this function df_name.info()\n",
    "print(health_df_2.info())\n",
    "# we can also see the shape of the data\n",
    "print(\"\\n The shape of dataset 2 is:\", health_df_2.shape)"
   ]
  },
  {
   "cell_type": "code",
   "execution_count": 4,
   "id": "polish-spirituality",
   "metadata": {
    "id": "polish-spirituality"
   },
   "outputs": [],
   "source": [
    "# Extract predictors and labels from the dataset\n",
    "X = health_df_2[['Mother_age', 'Mother_smoking']]\n",
    "Y = health_df_2['Birth_weight']"
   ]
  },
  {
   "cell_type": "code",
   "execution_count": 5,
   "id": "indoor-college",
   "metadata": {
    "id": "indoor-college"
   },
   "outputs": [],
   "source": [
    "# Id is not needed in training/prediction process\n",
    "# To simplify the dataset you can drop this column\n",
    "df_2 = health_df_2.drop('ID', axis=1)"
   ]
  },
  {
   "cell_type": "markdown",
   "id": "documentary-japan",
   "metadata": {
    "id": "documentary-japan"
   },
   "source": [
    "### Pair plot \n",
    "A pairs plot allows us to see both distribution of single variables and relationships between two variables. Pair plots are a great method to identify trends for follow-up analysis."
   ]
  },
  {
   "cell_type": "code",
   "execution_count": 6,
   "id": "roman-newman",
   "metadata": {
    "id": "roman-newman"
   },
   "outputs": [
    {
     "data": {
      "image/png": "[encoded data removed]",
      "text/plain": [
       "<Figure size 540x540 with 12 Axes>"
      ]
     },
     "metadata": {},
     "output_type": "display_data"
    }
   ],
   "source": [
    "# We can plot the pairplot of variables\n",
    "# Set grid\n",
    "style.use('seaborn-whitegrid')\n",
    "# Set figure size\n",
    "plt.rcParams['figure.figsize'] = (20,10)\n",
    "# Specify dataset to used\n",
    "sns.pairplot(df_2)\n",
    "# You can also save the plot\n",
    "plt.savefig('pairplor_health_df_2.png')\n",
    "# Display the generated plot\n",
    "plt.show()"
   ]
  },
  {
   "cell_type": "markdown",
   "id": "valid-amount",
   "metadata": {
    "id": "valid-amount"
   },
   "source": [
    "### Train/test split for regression\n",
    "Train and test sets are vital to ensure that your supervised learning model is able to generalize well to new data. This was true for classification models, and is equally true for linear regression models."
   ]
  },
  {
   "cell_type": "code",
   "execution_count": 7,
   "id": "altered-wisdom",
   "metadata": {
    "id": "altered-wisdom"
   },
   "outputs": [],
   "source": [
    "# Split the data set into trianing and validation\n",
    "X = df_2.drop(\"Birth_weight\", axis = 1)\n",
    "Y = df_2[\"Birth_weight\"]\n",
    "# Set random seed here so that you will get the same result as solution\n",
    "X_train, X_test, y_train, y_test = train_test_split(X, Y, test_size = 0.2, random_state = 0)"
   ]
  },
  {
   "cell_type": "markdown",
   "id": "imperial-forward",
   "metadata": {
    "id": "imperial-forward"
   },
   "source": [
    "Reference for LinearRegression()\n",
    "\n",
    "https://scikit-learn.org/stable/modules/generated/sklearn.linear_model.LinearRegression.html"
   ]
  },
  {
   "cell_type": "code",
   "execution_count": 8,
   "id": "commercial-congress",
   "metadata": {
    "id": "commercial-congress"
   },
   "outputs": [],
   "source": [
    "# Solution\n",
    "mlr = LinearRegression()\n",
    "# Fit the model with training data\n",
    "mlr.fit(X_train, y_train) \n",
    "# Call model prediction on test data\n",
    "y_pred = mlr.predict(X_test)"
   ]
  },
  {
   "cell_type": "code",
   "execution_count": 9,
   "id": "noted-nashville",
   "metadata": {
    "id": "noted-nashville"
   },
   "outputs": [
    {
     "name": "stdout",
     "output_type": "stream",
     "text": [
      "\u001b[1mR-Squared :\u001b[0m 0.7866904643909651\n",
      "\u001b[1mMSE:\u001b[0m 95.70932225857881\n",
      "\u001b[1mMAE:\u001b[0m 9.058391515051955\n"
     ]
    }
   ],
   "source": [
    "# Evaluate mlr model\n",
    "# Obtain the value of R square\n",
    "print(cl(\"R-Squared :\", attrs = [\"bold\"]),\n",
    "      mlr.score(X_test.to_numpy(),\n",
    "                y_test))\n",
    "# Obtain the value of MSE \n",
    "MSE = mean_squared_error(y_test, y_pred)\n",
    "print(cl(\"MSE:\", attrs = [\"bold\"]), MSE)\n",
    "# Obtain the value of MAE \n",
    "MAE = mean_absolute_error(y_test, y_pred)\n",
    "print(cl(\"MAE:\", attrs = [\"bold\"]), MAE)"
   ]
  },
  {
   "cell_type": "markdown",
   "id": "expired-symposium",
   "metadata": {
    "id": "expired-symposium"
   },
   "source": [
    "We then need to fit the model by calling the OLS object’s fit() method. Ignore the warning about the kurtosis test if it appears, we have only 16 examples in our dataset and the test of the kurtosis is valid only if there are more than 20 examples."
   ]
  },
  {
   "cell_type": "code",
   "execution_count": 10,
   "id": "interpreted-fruit",
   "metadata": {
    "id": "interpreted-fruit"
   },
   "outputs": [
    {
     "data": {
      "text/plain": [
       "(16, 2)"
      ]
     },
     "execution_count": 10,
     "metadata": {},
     "output_type": "execute_result"
    }
   ],
   "source": [
    "# Solution\n",
    "X_train.shape"
   ]
  },
  {
   "cell_type": "code",
   "execution_count": 13,
   "id": "unlimited-authorization",
   "metadata": {
    "id": "unlimited-authorization"
   },
   "outputs": [
    {
     "name": "stdout",
     "output_type": "stream",
     "text": [
      "                                 OLS Regression Results                                \n",
      "=======================================================================================\n",
      "Dep. Variable:           Birth_weight   R-squared (uncentered):                   0.926\n",
      "Model:                            OLS   Adj. R-squared (uncentered):              0.916\n",
      "Method:                 Least Squares   F-statistic:                              88.03\n",
      "Date:                Tue, 27 Jul 2021   Prob (F-statistic):                    1.18e-08\n",
      "Time:                        15:20:37   Log-Likelihood:                         -76.769\n",
      "No. Observations:                  16   AIC:                                      157.5\n",
      "Df Residuals:                      14   BIC:                                      159.1\n",
      "Df Model:                           2                                                  \n",
      "Covariance Type:            nonrobust                                                  \n",
      "==================================================================================\n",
      "                     coef    std err          t      P>|t|      [0.025      0.975]\n",
      "----------------------------------------------------------------------------------\n",
      "Mother_age         4.3260      0.590      7.331      0.000       3.060       5.592\n",
      "Mother_smoking    -2.9483     10.353     -0.285      0.780     -25.153      19.257\n",
      "==============================================================================\n",
      "Omnibus:                        2.488   Durbin-Watson:                   2.026\n",
      "Prob(Omnibus):                  0.288   Jarque-Bera (JB):                1.084\n",
      "Skew:                          -0.624   Prob(JB):                        0.582\n",
      "Kurtosis:                       3.264   Cond. No.                         32.9\n",
      "==============================================================================\n",
      "\n",
      "Notes:\n",
      "[1] R² is computed without centering (uncentered) since the model does not contain a constant.\n",
      "[2] Standard Errors assume that the covariance matrix of the errors is correctly specified.\n"
     ]
    },
    {
     "name": "stderr",
     "output_type": "stream",
     "text": [
      "/home/joshua/.local/lib/python3.8/site-packages/scipy/stats/stats.py:1603: UserWarning: kurtosistest only valid for n>=20 ... continuing anyway, n=16\n",
      "  warnings.warn(\"kurtosistest only valid for n>=20 ... continuing \"\n"
     ]
    }
   ],
   "source": [
    "mlm = sm.OLS(y_train, X_train)\n",
    "fitted_mlm = mlm.fit()\n",
    "print(fitted_mlm.summary())"
   ]
  },
  {
   "cell_type": "markdown",
   "id": "temporal-agency",
   "metadata": {
    "id": "temporal-agency"
   },
   "source": [
    "## Part 2: Binary Logistic Regression\n",
    "This part is modified from Harvard CS109A's lab 6 notebook:\n",
    "https://harvard-iacs.github.io/2018-CS109A/labs/lab-6/student/"
   ]
  },
  {
   "cell_type": "markdown",
   "id": "forbidden-captain",
   "metadata": {
    "id": "forbidden-captain"
   },
   "source": [
    "Linear regression is usually a good baseline model, but since the outcome we're trying to predict only takes values 0 and 1 we'll want to use logistic regression instead of basic linear regression.\n",
    "\n",
    "In this section, you will use the clinical dataset from Ille-et-Vilaine Study of Oesophageal Cancer\n",
    "- Cases: 200 men with oesophageal cancer (OC)\n",
    "- Controls: 775 OC-free men randomly drawn from the same regions.\n",
    "- Primary Interest: To assess associations between alcohol and tobacco consumptions and oesophageal cancer incidence.\n"
   ]
  },
  {
   "cell_type": "code",
   "execution_count": 14,
   "id": "hidden-hartford",
   "metadata": {
    "id": "hidden-hartford"
   },
   "outputs": [],
   "source": [
    "# Load model package\n",
    "from sklearn.linear_model import LogisticRegression\n",
    "# Evaluation metrics\n",
    "from sklearn.metrics import roc_auc_score\n",
    "from sklearn.metrics import precision_recall_curve\n",
    "from sklearn.metrics import auc\n",
    "from sklearn.metrics import accuracy_score"
   ]
  },
  {
   "cell_type": "code",
   "execution_count": 15,
   "id": "analyzed-designation",
   "metadata": {
    "id": "analyzed-designation"
   },
   "outputs": [
    {
     "data": {
      "text/html": [
       "<div>\n",
       "<style scoped>\n",
       "    .dataframe tbody tr th:only-of-type {\n",
       "        vertical-align: middle;\n",
       "    }\n",
       "\n",
       "    .dataframe tbody tr th {\n",
       "        vertical-align: top;\n",
       "    }\n",
       "\n",
       "    .dataframe thead th {\n",
       "        text-align: right;\n",
       "    }\n",
       "</style>\n",
       "<table border=\"1\" class=\"dataframe\">\n",
       "  <thead>\n",
       "    <tr style=\"text-align: right;\">\n",
       "      <th></th>\n",
       "      <th>alcohol</th>\n",
       "      <th>tobacco</th>\n",
       "      <th>case</th>\n",
       "      <th>freq</th>\n",
       "    </tr>\n",
       "    <tr>\n",
       "      <th>agegrp</th>\n",
       "      <th></th>\n",
       "      <th></th>\n",
       "      <th></th>\n",
       "      <th></th>\n",
       "    </tr>\n",
       "  </thead>\n",
       "  <tbody>\n",
       "    <tr>\n",
       "      <th>1</th>\n",
       "      <td>0</td>\n",
       "      <td>1</td>\n",
       "      <td>0</td>\n",
       "      <td>40</td>\n",
       "    </tr>\n",
       "    <tr>\n",
       "      <th>1</th>\n",
       "      <td>0</td>\n",
       "      <td>2</td>\n",
       "      <td>0</td>\n",
       "      <td>10</td>\n",
       "    </tr>\n",
       "    <tr>\n",
       "      <th>1</th>\n",
       "      <td>0</td>\n",
       "      <td>3</td>\n",
       "      <td>0</td>\n",
       "      <td>6</td>\n",
       "    </tr>\n",
       "    <tr>\n",
       "      <th>1</th>\n",
       "      <td>0</td>\n",
       "      <td>4</td>\n",
       "      <td>0</td>\n",
       "      <td>5</td>\n",
       "    </tr>\n",
       "    <tr>\n",
       "      <th>1</th>\n",
       "      <td>0</td>\n",
       "      <td>1</td>\n",
       "      <td>1</td>\n",
       "      <td>0</td>\n",
       "    </tr>\n",
       "  </tbody>\n",
       "</table>\n",
       "</div>"
      ],
      "text/plain": [
       "        alcohol  tobacco  case  freq\n",
       "agegrp                              \n",
       "1             0        1     0    40\n",
       "1             0        2     0    10\n",
       "1             0        3     0     6\n",
       "1             0        4     0     5\n",
       "1             0        1     1     0"
      ]
     },
     "execution_count": 15,
     "metadata": {},
     "output_type": "execute_result"
    }
   ],
   "source": [
    "# Read-in and checking\n",
    "oesophageal_df = pd.read_csv(\"data/oesophageal.csv\", index_col=0)\n",
    "# Please examine the first 6 rows of the dataset use method in previous \n",
    "# data checking process\n",
    "oesophageal_df.head() # Leave this line blank for exercise"
   ]
  },
  {
   "cell_type": "code",
   "execution_count": 16,
   "id": "acting-anniversary",
   "metadata": {
    "id": "acting-anniversary"
   },
   "outputs": [
    {
     "data": {
      "text/html": [
       "<div>\n",
       "<style scoped>\n",
       "    .dataframe tbody tr th:only-of-type {\n",
       "        vertical-align: middle;\n",
       "    }\n",
       "\n",
       "    .dataframe tbody tr th {\n",
       "        vertical-align: top;\n",
       "    }\n",
       "\n",
       "    .dataframe thead th {\n",
       "        text-align: right;\n",
       "    }\n",
       "</style>\n",
       "<table border=\"1\" class=\"dataframe\">\n",
       "  <thead>\n",
       "    <tr style=\"text-align: right;\">\n",
       "      <th></th>\n",
       "      <th>alcohol</th>\n",
       "      <th>tobacco</th>\n",
       "      <th>case</th>\n",
       "      <th>freq</th>\n",
       "    </tr>\n",
       "  </thead>\n",
       "  <tbody>\n",
       "    <tr>\n",
       "      <th>count</th>\n",
       "      <td>92.00000</td>\n",
       "      <td>92.000000</td>\n",
       "      <td>92.00000</td>\n",
       "      <td>92.000000</td>\n",
       "    </tr>\n",
       "    <tr>\n",
       "      <th>mean</th>\n",
       "      <td>0.50000</td>\n",
       "      <td>2.456522</td>\n",
       "      <td>0.50000</td>\n",
       "      <td>8.369565</td>\n",
       "    </tr>\n",
       "    <tr>\n",
       "      <th>std</th>\n",
       "      <td>0.50274</td>\n",
       "      <td>1.123310</td>\n",
       "      <td>0.50274</td>\n",
       "      <td>12.015299</td>\n",
       "    </tr>\n",
       "    <tr>\n",
       "      <th>min</th>\n",
       "      <td>0.00000</td>\n",
       "      <td>1.000000</td>\n",
       "      <td>0.00000</td>\n",
       "      <td>0.000000</td>\n",
       "    </tr>\n",
       "    <tr>\n",
       "      <th>25%</th>\n",
       "      <td>0.00000</td>\n",
       "      <td>1.000000</td>\n",
       "      <td>0.00000</td>\n",
       "      <td>1.000000</td>\n",
       "    </tr>\n",
       "    <tr>\n",
       "      <th>50%</th>\n",
       "      <td>0.50000</td>\n",
       "      <td>2.000000</td>\n",
       "      <td>0.50000</td>\n",
       "      <td>4.000000</td>\n",
       "    </tr>\n",
       "    <tr>\n",
       "      <th>75%</th>\n",
       "      <td>1.00000</td>\n",
       "      <td>3.000000</td>\n",
       "      <td>1.00000</td>\n",
       "      <td>10.000000</td>\n",
       "    </tr>\n",
       "    <tr>\n",
       "      <th>max</th>\n",
       "      <td>1.00000</td>\n",
       "      <td>4.000000</td>\n",
       "      <td>1.00000</td>\n",
       "      <td>60.000000</td>\n",
       "    </tr>\n",
       "  </tbody>\n",
       "</table>\n",
       "</div>"
      ],
      "text/plain": [
       "        alcohol    tobacco      case       freq\n",
       "count  92.00000  92.000000  92.00000  92.000000\n",
       "mean    0.50000   2.456522   0.50000   8.369565\n",
       "std     0.50274   1.123310   0.50274  12.015299\n",
       "min     0.00000   1.000000   0.00000   0.000000\n",
       "25%     0.00000   1.000000   0.00000   1.000000\n",
       "50%     0.50000   2.000000   0.50000   4.000000\n",
       "75%     1.00000   3.000000   1.00000  10.000000\n",
       "max     1.00000   4.000000   1.00000  60.000000"
      ]
     },
     "execution_count": 16,
     "metadata": {},
     "output_type": "execute_result"
    }
   ],
   "source": [
    "# Please view the dataset summary matrix with the method in previous \n",
    "# data checking process\n",
    "oesophageal_df.describe() # Leave this line blank for exercise"
   ]
  },
  {
   "cell_type": "markdown",
   "id": "criminal-recycling",
   "metadata": {
    "id": "criminal-recycling"
   },
   "source": [
    "### Split train and test sets \n",
    "reference: https://scikit-learn.org/stable/modules/generated/sklearn.model_selection.train_test_split.html"
   ]
  },
  {
   "cell_type": "code",
   "execution_count": 17,
   "id": "spectacular-actor",
   "metadata": {
    "id": "spectacular-actor"
   },
   "outputs": [
    {
     "data": {
      "text/html": [
       "<div>\n",
       "<style scoped>\n",
       "    .dataframe tbody tr th:only-of-type {\n",
       "        vertical-align: middle;\n",
       "    }\n",
       "\n",
       "    .dataframe tbody tr th {\n",
       "        vertical-align: top;\n",
       "    }\n",
       "\n",
       "    .dataframe thead th {\n",
       "        text-align: right;\n",
       "    }\n",
       "</style>\n",
       "<table border=\"1\" class=\"dataframe\">\n",
       "  <thead>\n",
       "    <tr style=\"text-align: right;\">\n",
       "      <th></th>\n",
       "      <th>alcohol</th>\n",
       "      <th>tobacco</th>\n",
       "      <th>freq</th>\n",
       "    </tr>\n",
       "    <tr>\n",
       "      <th>agegrp</th>\n",
       "      <th></th>\n",
       "      <th></th>\n",
       "      <th></th>\n",
       "    </tr>\n",
       "  </thead>\n",
       "  <tbody>\n",
       "    <tr>\n",
       "      <th>2</th>\n",
       "      <td>1</td>\n",
       "      <td>3</td>\n",
       "      <td>1</td>\n",
       "    </tr>\n",
       "    <tr>\n",
       "      <th>3</th>\n",
       "      <td>1</td>\n",
       "      <td>2</td>\n",
       "      <td>17</td>\n",
       "    </tr>\n",
       "    <tr>\n",
       "      <th>4</th>\n",
       "      <td>0</td>\n",
       "      <td>3</td>\n",
       "      <td>3</td>\n",
       "    </tr>\n",
       "    <tr>\n",
       "      <th>1</th>\n",
       "      <td>0</td>\n",
       "      <td>3</td>\n",
       "      <td>0</td>\n",
       "    </tr>\n",
       "    <tr>\n",
       "      <th>3</th>\n",
       "      <td>1</td>\n",
       "      <td>4</td>\n",
       "      <td>2</td>\n",
       "    </tr>\n",
       "  </tbody>\n",
       "</table>\n",
       "</div>"
      ],
      "text/plain": [
       "        alcohol  tobacco  freq\n",
       "agegrp                        \n",
       "2             1        3     1\n",
       "3             1        2    17\n",
       "4             0        3     3\n",
       "1             0        3     0\n",
       "3             1        4     2"
      ]
     },
     "execution_count": 17,
     "metadata": {},
     "output_type": "execute_result"
    }
   ],
   "source": [
    "# Split the data set into trianing and validation\n",
    "# Time to practise! Please separate the read-in data\n",
    "# into training and testing sets\n",
    "X = oesophageal_df.drop(\"case\", axis = 1) # Leave this line blank for exercise\n",
    "Y = oesophageal_df[\"case\"] # Leave this line blank for exercise\n",
    "X_train, X_test, y_train, y_test = train_test_split(X, Y, test_size = 0.2, random_state = 0) # Leave this line blank for exercise\n",
    "# Double check whether you have successfully \n",
    "# separate training and testing sets\n",
    "X_train.head()"
   ]
  },
  {
   "cell_type": "code",
   "execution_count": 19,
   "id": "qualified-society",
   "metadata": {
    "id": "qualified-society"
   },
   "outputs": [
    {
     "data": {
      "image/png": "[encoded data removed]",
      "text/plain": [
       "<Figure size 540x540 with 12 Axes>"
      ]
     },
     "metadata": {},
     "output_type": "display_data"
    }
   ],
   "source": [
    "# Visualize your training data\n",
    "# Leave following cell blank for exercise\n",
    "style.use('seaborn-whitegrid')\n",
    "plt.rcParams['figure.figsize'] = (20,10)\n",
    "sns.pairplot(X_train)\n",
    "plt.savefig('pairplor_oesophageal_df_X_train.png')\n",
    "plt.show()"
   ]
  },
  {
   "cell_type": "markdown",
   "id": "entitled-overview",
   "metadata": {
    "id": "entitled-overview"
   },
   "source": [
    "**Model building part**\n",
    "Logistic regression: https://scikit-learn.org/stable/modules/generated/sklearn.linear_model.LogisticRegression.html"
   ]
  },
  {
   "cell_type": "code",
   "execution_count": 20,
   "id": "comparative-detector",
   "metadata": {
    "id": "comparative-detector"
   },
   "outputs": [],
   "source": [
    "#‘lbfgs’ solver handles multinomial loss in multiclass problems \n",
    "# The “balanced” mode uses the values of y to automatically adjust\n",
    "# weights inversely proportional to class frequencies in the input \n",
    "# data as n_samples / (n_classes * np.bincount(y))\n",
    "logreg_model = LogisticRegression(class_weight=\"balanced\").fit(X_train, y_train)"
   ]
  },
  {
   "cell_type": "code",
   "execution_count": 21,
   "id": "certain-muscle",
   "metadata": {
    "id": "certain-muscle"
   },
   "outputs": [
    {
     "name": "stdout",
     "output_type": "stream",
     "text": [
      "Training Set Score: 0.821917808219178\n",
      "Test Set Score: 0.6842105263157895\n"
     ]
    }
   ],
   "source": [
    "y_preds_train = logreg_model.predict(X_train)\n",
    "y_preds_test = logreg_model.predict(X_test)\n",
    "\n",
    "full_logreg_score_train = accuracy_score(y_train, y_preds_train)\n",
    "full_logreg_score_test = accuracy_score(y_test, y_preds_test)\n",
    "\n",
    "# Evaluation\n",
    "print('Training Set Score: {}'.format(full_logreg_score_train))\n",
    "print('Test Set Score: {}'.format(full_logreg_score_test))"
   ]
  },
  {
   "cell_type": "markdown",
   "id": "about-evidence",
   "metadata": {
    "id": "about-evidence"
   },
   "source": [
    "#### We will use a build-in function to calculate precision, recall vs thresholds\n",
    "https://scikit-learn.org/stable/modules/generated/sklearn.metrics.precision_recall_curve.html"
   ]
  },
  {
   "cell_type": "code",
   "execution_count": 22,
   "id": "herbal-swaziland",
   "metadata": {
    "id": "herbal-swaziland"
   },
   "outputs": [
    {
     "data": {
      "image/png": "[encoded data removed]",
      "text/plain": [
       "<Figure size 576x432 with 1 Axes>"
      ]
     },
     "metadata": {},
     "output_type": "display_data"
    }
   ],
   "source": [
    "# Probs_y is a 2-D array of the probabilities of \n",
    "# class 0 (first column of array) vs class 1 (2nd column in array)\n",
    "probs_y = logreg_model.predict_proba(X_test)\n",
    "# Retrieve probability of being 1(in second column of probs_y)\n",
    "precision, recall, thresholds = precision_recall_curve(y_test, probs_y[:, 1]) \n",
    "# Similar as plots in above sections\n",
    "plt.rcParams['figure.figsize'] = (8,6)\n",
    "plt.title(\"Precision-Recall vs Threshold Chart\")\n",
    "# Plot dash lines\n",
    "plt.plot(thresholds, precision[: -1], \"b--\", label=\"Precision\")\n",
    "plt.plot(thresholds, recall[: -1], \"r--\", label=\"Recall\")\n",
    "plt.ylabel(\"Precision, Recall\")\n",
    "plt.xlabel(\"Threshold\")\n",
    "# Specify legend location and size\n",
    "plt.legend(loc=\"lower left\",fontsize = \"large\")\n",
    "plt.ylim([0,1])\n",
    "plt.show()"
   ]
  },
  {
   "cell_type": "code",
   "execution_count": 23,
   "id": "breeding-donna",
   "metadata": {
    "id": "breeding-donna"
   },
   "outputs": [
    {
     "name": "stdout",
     "output_type": "stream",
     "text": [
      "AUC: 0.8687104562104562\n"
     ]
    },
    {
     "data": {
      "image/png": "[encoded data removed]",
      "text/plain": [
       "<Figure size 576x432 with 1 Axes>"
      ]
     },
     "metadata": {},
     "output_type": "display_data"
    }
   ],
   "source": [
    "F1 = 2 * (precision * recall) / (precision + recall)\n",
    "pr_auc = auc(recall, precision)\n",
    "print(\"AUC:\", pr_auc)\n",
    "# Similar as plots in above sections\n",
    "# plt.title(\"AUC vs Threshold Chart\")\n",
    "plt.rcParams['figure.figsize'] = (8,6)\n",
    "plt.title(\"F1 vs Threshold Chart\")\n",
    "# Plot lines\n",
    "plt.plot(thresholds, F1[:-1], label=\"F1\")\n",
    "plt.ylabel(\"F1\")\n",
    "plt.xlabel(\"Threshold\")\n",
    "plt.legend(loc=\"lower left\")\n",
    "plt.ylim([0,1])\n",
    "plt.show()"
   ]
  },
  {
   "cell_type": "markdown",
   "id": "enhanced-hudson",
   "metadata": {
    "id": "enhanced-hudson"
   },
   "source": [
    "## Part 3: Ridge Regression\n",
    "Ridge regression is a regression technique that is quite similar to unadorned least squares linear regression: simply adding an $\\ell_2$ **penalty** on the parameters $\\beta$ to the objective function for linear regression yields the objective function for ridge regression.\n",
    "\n",
    "Our goal is to find an assignment to $\\beta$ that minimizes the function\n",
    "\n",
    "$$f(\\beta) = \\|X\\beta - Y\\|_2^2 + \\lambda \\|\\beta\\|_2^2,$$\n",
    "\n",
    "where $\\lambda$ is a hyperparameter and, as usual, $X$ is the training data and $Y$ the observations. In practice, we tune $\\lambda$ until we find a model that generalizes well to the test data.\n",
    "\n",
    "In this section, you will work with Gapminder data that we have consolidated into one CSV file available in the workspace as 'gapminder.csv'. Specifically, your goal will be to use this data to predict the life expectancy in a given country based on features such as the country's GDP, fertility rate, and population. As in Chapter 1, the dataset has been preproces"
   ]
  },
  {
   "cell_type": "code",
   "execution_count": 24,
   "id": "unlimited-shadow",
   "metadata": {
    "id": "unlimited-shadow"
   },
   "outputs": [],
   "source": [
    "from IPython.display import Image\n",
    "from IPython.core.display import HTML "
   ]
  },
  {
   "cell_type": "code",
   "execution_count": 25,
   "id": "improving-festival",
   "metadata": {
    "id": "improving-festival"
   },
   "outputs": [],
   "source": [
    "# For k-fold cv\n",
    "from sklearn.model_selection import cross_val_score\n",
    "from sklearn.model_selection import KFold\n",
    "# Load model\n",
    "from sklearn.linear_model import Ridge\n",
    "# Cross validation\n",
    "from sklearn.model_selection import cross_validate"
   ]
  },
  {
   "cell_type": "code",
   "execution_count": 26,
   "id": "emotional-trash",
   "metadata": {
    "id": "emotional-trash"
   },
   "outputs": [],
   "source": [
    "# Load dataset\n",
    "gm_df = pd.read_pickle(\"./data/gm_2008.pkl\")"
   ]
  },
  {
   "cell_type": "code",
   "execution_count": 27,
   "id": "accessory-model",
   "metadata": {
    "id": "accessory-model"
   },
   "outputs": [
    {
     "data": {
      "text/html": [
       "<div>\n",
       "<style scoped>\n",
       "    .dataframe tbody tr th:only-of-type {\n",
       "        vertical-align: middle;\n",
       "    }\n",
       "\n",
       "    .dataframe tbody tr th {\n",
       "        vertical-align: top;\n",
       "    }\n",
       "\n",
       "    .dataframe thead th {\n",
       "        text-align: right;\n",
       "    }\n",
       "</style>\n",
       "<table border=\"1\" class=\"dataframe\">\n",
       "  <thead>\n",
       "    <tr style=\"text-align: right;\">\n",
       "      <th></th>\n",
       "      <th>population</th>\n",
       "      <th>fertility</th>\n",
       "      <th>HIV</th>\n",
       "      <th>CO2</th>\n",
       "      <th>BMI_male</th>\n",
       "      <th>GDP</th>\n",
       "      <th>life</th>\n",
       "      <th>child_mortality</th>\n",
       "      <th>Region</th>\n",
       "    </tr>\n",
       "  </thead>\n",
       "  <tbody>\n",
       "    <tr>\n",
       "      <th>0</th>\n",
       "      <td>34811059.0</td>\n",
       "      <td>2.73</td>\n",
       "      <td>0.1</td>\n",
       "      <td>3.328945</td>\n",
       "      <td>24.59620</td>\n",
       "      <td>12314.0</td>\n",
       "      <td>75.3</td>\n",
       "      <td>29.5</td>\n",
       "      <td>Middle East &amp; North Africa</td>\n",
       "    </tr>\n",
       "    <tr>\n",
       "      <th>1</th>\n",
       "      <td>19842251.0</td>\n",
       "      <td>6.43</td>\n",
       "      <td>2.0</td>\n",
       "      <td>1.474353</td>\n",
       "      <td>22.25083</td>\n",
       "      <td>7103.0</td>\n",
       "      <td>58.3</td>\n",
       "      <td>192.0</td>\n",
       "      <td>Sub-Saharan Africa</td>\n",
       "    </tr>\n",
       "    <tr>\n",
       "      <th>2</th>\n",
       "      <td>40381860.0</td>\n",
       "      <td>2.24</td>\n",
       "      <td>0.5</td>\n",
       "      <td>4.785170</td>\n",
       "      <td>27.50170</td>\n",
       "      <td>14646.0</td>\n",
       "      <td>75.5</td>\n",
       "      <td>15.4</td>\n",
       "      <td>America</td>\n",
       "    </tr>\n",
       "    <tr>\n",
       "      <th>3</th>\n",
       "      <td>2975029.0</td>\n",
       "      <td>1.40</td>\n",
       "      <td>0.1</td>\n",
       "      <td>1.804106</td>\n",
       "      <td>25.35542</td>\n",
       "      <td>7383.0</td>\n",
       "      <td>72.5</td>\n",
       "      <td>20.0</td>\n",
       "      <td>Europe &amp; Central Asia</td>\n",
       "    </tr>\n",
       "    <tr>\n",
       "      <th>4</th>\n",
       "      <td>21370348.0</td>\n",
       "      <td>1.96</td>\n",
       "      <td>0.1</td>\n",
       "      <td>18.016313</td>\n",
       "      <td>27.56373</td>\n",
       "      <td>41312.0</td>\n",
       "      <td>81.5</td>\n",
       "      <td>5.2</td>\n",
       "      <td>East Asia &amp; Pacific</td>\n",
       "    </tr>\n",
       "  </tbody>\n",
       "</table>\n",
       "</div>"
      ],
      "text/plain": [
       "   population  fertility  HIV        CO2  BMI_male      GDP  life  \\\n",
       "0  34811059.0       2.73  0.1   3.328945  24.59620  12314.0  75.3   \n",
       "1  19842251.0       6.43  2.0   1.474353  22.25083   7103.0  58.3   \n",
       "2  40381860.0       2.24  0.5   4.785170  27.50170  14646.0  75.5   \n",
       "3   2975029.0       1.40  0.1   1.804106  25.35542   7383.0  72.5   \n",
       "4  21370348.0       1.96  0.1  18.016313  27.56373  41312.0  81.5   \n",
       "\n",
       "   child_mortality                      Region  \n",
       "0             29.5  Middle East & North Africa  \n",
       "1            192.0          Sub-Saharan Africa  \n",
       "2             15.4                     America  \n",
       "3             20.0       Europe & Central Asia  \n",
       "4              5.2         East Asia & Pacific  "
      ]
     },
     "execution_count": 27,
     "metadata": {},
     "output_type": "execute_result"
    }
   ],
   "source": [
    "gm_df.head()"
   ]
  },
  {
   "cell_type": "markdown",
   "id": "czech-stylus",
   "metadata": {
    "id": "czech-stylus"
   },
   "source": [
    "## Clean data\n",
    "The dataset may contain a few unknown values. If that is the case, we can use dataset.dropna() function to do data cleaning."
   ]
  },
  {
   "cell_type": "code",
   "execution_count": 28,
   "id": "divided-default",
   "metadata": {
    "id": "divided-default"
   },
   "outputs": [
    {
     "name": "stdout",
     "output_type": "stream",
     "text": [
      "num of na before cleaning:  population         0\n",
      "fertility          0\n",
      "HIV                0\n",
      "CO2                0\n",
      "BMI_male           0\n",
      "GDP                0\n",
      "life               0\n",
      "child_mortality    0\n",
      "Region             0\n",
      "dtype: int64\n",
      "num of na after cleaning:  population         0\n",
      "fertility          0\n",
      "HIV                0\n",
      "CO2                0\n",
      "BMI_male           0\n",
      "GDP                0\n",
      "life               0\n",
      "child_mortality    0\n",
      "dtype: int64\n"
     ]
    }
   ],
   "source": [
    "print(\"num of na before cleaning: \", gm_df.isna().sum())\n",
    "gm_df = gm_df.drop(labels=['Region'], axis='columns')\n",
    "print(\"num of na after cleaning: \", gm_df.isna().sum())"
   ]
  },
  {
   "cell_type": "markdown",
   "id": "nutritional-lebanon",
   "metadata": {
    "id": "nutritional-lebanon"
   },
   "source": [
    "To create a cleaner dataset, we will drop some columns and remove NaN values manually"
   ]
  },
  {
   "cell_type": "code",
   "execution_count": 29,
   "id": "central-continent",
   "metadata": {
    "id": "central-continent"
   },
   "outputs": [],
   "source": [
    "# We create a subdataset based on the previous one\n",
    "# Split the data set into trianing and validation\n",
    "X = gm_df.drop('life', axis='columns').values\n",
    "y = gm_df['life'].values"
   ]
  },
  {
   "cell_type": "markdown",
   "id": "apart-comment",
   "metadata": {
    "id": "apart-comment"
   },
   "source": [
    "A test set should still be held out for final evaluation. \n",
    "\n",
    "- A model is trained only using the folds labeled as training data;\n",
    "\n",
    "- The resulting model is validated on the remaining part of the data (i.e., it is used as a test set to compute a performance measure such as accuracy).\n",
    "\n",
    "Reference: https://scikit-learn.org/stable/modules/cross_validation.html"
   ]
  },
  {
   "cell_type": "code",
   "execution_count": null,
   "id": "reverse-serum",
   "metadata": {
    "id": "reverse-serum"
   },
   "outputs": [],
   "source": [
    "Image(url='https://scikit-learn.org/stable/_images/grid_search_cross_validation.png')"
   ]
  },
  {
   "cell_type": "code",
   "execution_count": null,
   "id": "healthy-sentence",
   "metadata": {
    "id": "healthy-sentence"
   },
   "outputs": [],
   "source": [
    "# we create this function to plot alpha with the error range\n",
    "# don't need to understand\n",
    "def display_plot(cv_scores, cv_scores_std, alpha_space):\n",
    "    fig = plt.figure()\n",
    "    ax = fig.add_subplot(1,1,1)\n",
    "    ax.plot(alpha_space, cv_scores)\n",
    "\n",
    "    std_error = cv_scores_std / np.sqrt(10)\n",
    "    # Try to uncomment this line to see the change of the final plot\n",
    "#     ax.fill_between(alpha_space, cv_scores + std_error, cv_scores - std_error, alpha=0.2)\n",
    "    ax.set_ylabel('CV Score +/- Std Error')\n",
    "    ax.set_xlabel('Alpha')\n",
    "    ax.axhline(np.max(cv_scores), linestyle='--', color='.5')\n",
    "    ax.set_xlim([alpha_space[0], alpha_space[-1]])\n",
    "    ax.set_xscale('log')\n",
    "    ax.set_title('CV Score and std error region vs Alpha')"
   ]
  },
  {
   "cell_type": "code",
   "execution_count": null,
   "id": "critical-trader",
   "metadata": {
    "id": "critical-trader"
   },
   "outputs": [],
   "source": [
    "# Split the data into training and test set\n",
    "X_train, X_test, y_train, y_test = train_test_split(X, y, test_size = 0.3, random_state = 0) "
   ]
  },
  {
   "cell_type": "markdown",
   "id": "welsh-perry",
   "metadata": {
    "id": "welsh-perry"
   },
   "source": [
    "Here the defualt score of the cv score is R square value.\n",
    "Scores can also be specified with different evaluation metrics.\n",
    "For classification task, it has different default score metrics. \n",
    "\n",
    "But overally, the higher the score, the better the model.\n",
    "\n",
    "https://scikit-learn.org/stable/modules/model_evaluation.html#scoring-parameter"
   ]
  },
  {
   "cell_type": "code",
   "execution_count": null,
   "id": "wrong-gamma",
   "metadata": {
    "id": "wrong-gamma"
   },
   "outputs": [],
   "source": [
    "# Try to test different range of alpha \n",
    "# alpha_space = [1e-3, 1e-2, 3e-2, 5e-2, 1e-1, 1, 3, 5, 10]\n",
    "# Setup the array of alphas and lists to store scores\n",
    "alpha_space = np.logspace(-4, 0, 50)\n",
    "ridge_scores = []\n",
    "ridge_scores_std = []\n",
    "\n",
    "# Create a ridge regressor: ridge\n",
    "ridge = Ridge(normalize=True)\n",
    "\n",
    "# Compute scores over range of alphas\n",
    "for alpha in alpha_space:\n",
    "    \n",
    "    # Specify the alpha value to use: ridge.alhpa\n",
    "    ridge.alpha = alpha\n",
    "    \n",
    "    # Perform 10-fold CV: ridge_cv_scores\n",
    "    ridge_cv_scores = cross_val_score(ridge, X_train, y_train, cv=10)\n",
    "    \n",
    "    # Append the mean of ridge_cv_scores to ridge_scores\n",
    "    ridge_scores.append(np.mean(ridge_cv_scores))\n",
    "    \n",
    "    # Append the std of ridge_cv_scores to ridge_scores_std\n",
    "    ridge_scores_std.append(np.std(ridge_cv_scores))\n",
    "    \n",
    "# Display the plot\n",
    "display_plot(ridge_scores, ridge_scores_std, alpha_space)"
   ]
  },
  {
   "cell_type": "code",
   "execution_count": null,
   "id": "waiting-batman",
   "metadata": {
    "id": "waiting-batman"
   },
   "outputs": [],
   "source": [
    "# Exercise time!\n",
    "# Let's try with some different value of alphas\n",
    "# and try to outperform alpha = 0.6\n",
    "alpha = 0.6"
   ]
  },
  {
   "cell_type": "markdown",
   "id": "supposed-watershed",
   "metadata": {
    "id": "supposed-watershed"
   },
   "source": [
    "Reference for Ridge regression:https:https://scikit-learn.org/stable/modules/generated/sklearn.linear_model.Ridge.html\n",
    "\n",
    "Reference for Lasso regression:https://scikit-learn.org/stable/modules/generated/sklearn.linear_model.Lasso.html"
   ]
  },
  {
   "cell_type": "code",
   "execution_count": null,
   "id": "roman-jersey",
   "metadata": {
    "id": "roman-jersey"
   },
   "outputs": [],
   "source": [
    "# Define ridge regression model\n",
    "ridge_model = Ridge(normalize=True)\n",
    "ridge_model.alpha = 0.6\n",
    "# Fit the model\n",
    "ridge_model.fit(X_train, y_train)"
   ]
  },
  {
   "cell_type": "code",
   "execution_count": null,
   "id": "vulnerable-custom",
   "metadata": {
    "id": "vulnerable-custom"
   },
   "outputs": [],
   "source": [
    "# Make a prediction\n",
    "y_pred = ridge_model.predict(X_test)"
   ]
  },
  {
   "cell_type": "markdown",
   "id": "favorite-spotlight",
   "metadata": {
    "id": "favorite-spotlight"
   },
   "source": [
    "Model evaluation"
   ]
  },
  {
   "cell_type": "code",
   "execution_count": null,
   "id": "popular-accordance",
   "metadata": {
    "id": "popular-accordance"
   },
   "outputs": [],
   "source": [
    "# Obtain the value of MSE \n",
    "MSE = mean_squared_error(y_test, y_pred)\n",
    "print('MSE:', MSE)\n",
    "# Obtain the value of MAE \n",
    "MAE = mean_absolute_error(y_test, y_pred)\n",
    "print('MAE:', MAE)\n",
    "R2 = ridge_model.score(X_test, y_test)\n",
    "print(\"R2:\", R2)"
   ]
  },
  {
   "cell_type": "markdown",
   "id": "human-server",
   "metadata": {
    "id": "human-server"
   },
   "source": [
    "## Part 4: Naive Bayes and optional exercise\n",
    "reference:\n",
    "\n",
    "https://colab.research.google.com/github/jakevdp/PythonDataScienceHandbook/blob/master/notebooks/05.05-Naive-Bayes.ipynb#scrollTo=-NJHDvC9xpc-"
   ]
  },
  {
   "cell_type": "code",
   "execution_count": 30,
   "id": "least-negotiation",
   "metadata": {
    "id": "least-negotiation"
   },
   "outputs": [],
   "source": [
    "# Import dataset stimulation package\n",
    "from sklearn.datasets import make_blobs\n",
    "# Model package\n",
    "from sklearn.naive_bayes import GaussianNB\n",
    "# Decision boundary\n",
    "from mlxtend.plotting import plot_decision_regions\n",
    "import matplotlib.gridspec as gridspec\n",
    "# Evaluation metrics\n",
    "from sklearn.metrics import auc\n",
    "from sklearn.metrics import f1_score\n",
    "from sklearn.metrics import roc_curve"
   ]
  },
  {
   "cell_type": "markdown",
   "id": "broken-bones",
   "metadata": {
    "id": "broken-bones"
   },
   "source": [
    "Now we will implement the model on clinical data. In this dataset, we are trying to predic whether the patient have diabetes based on the patient's glucose level and bloodpressure. "
   ]
  },
  {
   "cell_type": "code",
   "execution_count": 31,
   "id": "gross-collaboration",
   "metadata": {
    "id": "gross-collaboration"
   },
   "outputs": [
    {
     "data": {
      "text/html": [
       "<div>\n",
       "<style scoped>\n",
       "    .dataframe tbody tr th:only-of-type {\n",
       "        vertical-align: middle;\n",
       "    }\n",
       "\n",
       "    .dataframe tbody tr th {\n",
       "        vertical-align: top;\n",
       "    }\n",
       "\n",
       "    .dataframe thead th {\n",
       "        text-align: right;\n",
       "    }\n",
       "</style>\n",
       "<table border=\"1\" class=\"dataframe\">\n",
       "  <thead>\n",
       "    <tr style=\"text-align: right;\">\n",
       "      <th></th>\n",
       "      <th>glucose</th>\n",
       "      <th>bloodpressure</th>\n",
       "      <th>diabetes</th>\n",
       "    </tr>\n",
       "  </thead>\n",
       "  <tbody>\n",
       "    <tr>\n",
       "      <th>0</th>\n",
       "      <td>40</td>\n",
       "      <td>85</td>\n",
       "      <td>0</td>\n",
       "    </tr>\n",
       "    <tr>\n",
       "      <th>1</th>\n",
       "      <td>40</td>\n",
       "      <td>92</td>\n",
       "      <td>0</td>\n",
       "    </tr>\n",
       "    <tr>\n",
       "      <th>2</th>\n",
       "      <td>45</td>\n",
       "      <td>63</td>\n",
       "      <td>1</td>\n",
       "    </tr>\n",
       "    <tr>\n",
       "      <th>3</th>\n",
       "      <td>45</td>\n",
       "      <td>80</td>\n",
       "      <td>0</td>\n",
       "    </tr>\n",
       "    <tr>\n",
       "      <th>4</th>\n",
       "      <td>40</td>\n",
       "      <td>73</td>\n",
       "      <td>1</td>\n",
       "    </tr>\n",
       "  </tbody>\n",
       "</table>\n",
       "</div>"
      ],
      "text/plain": [
       "   glucose  bloodpressure  diabetes\n",
       "0       40             85         0\n",
       "1       40             92         0\n",
       "2       45             63         1\n",
       "3       45             80         0\n",
       "4       40             73         1"
      ]
     },
     "execution_count": 31,
     "metadata": {},
     "output_type": "execute_result"
    }
   ],
   "source": [
    "nb_df = pd.read_csv(\"./data/NB_dataset.txt\", delimiter=',')\n",
    "nb_df.head()"
   ]
  },
  {
   "cell_type": "code",
   "execution_count": 32,
   "id": "experienced-africa",
   "metadata": {
    "id": "experienced-africa"
   },
   "outputs": [
    {
     "name": "stdout",
     "output_type": "stream",
     "text": [
      "          glucose  bloodpressure    diabetes\n",
      "count  995.000000     995.000000  995.000000\n",
      "mean    44.306533      79.184925    0.500503\n",
      "std      6.707567       9.340204    0.500251\n",
      "min     20.000000      50.000000    0.000000\n",
      "25%     40.000000      72.000000    0.000000\n",
      "50%     45.000000      80.000000    1.000000\n",
      "75%     50.000000      87.000000    1.000000\n",
      "max     70.000000     100.000000    1.000000\n",
      "<class 'pandas.core.frame.DataFrame'>\n",
      "RangeIndex: 995 entries, 0 to 994\n",
      "Data columns (total 3 columns):\n",
      " #   Column         Non-Null Count  Dtype\n",
      "---  ------         --------------  -----\n",
      " 0   glucose        995 non-null    int64\n",
      " 1   bloodpressure  995 non-null    int64\n",
      " 2   diabetes       995 non-null    int64\n",
      "dtypes: int64(3)\n",
      "memory usage: 23.4 KB\n",
      "None\n"
     ]
    }
   ],
   "source": [
    "# Exercise: try to view the summary table for this dataset\n",
    "\n",
    "# Solution:\n",
    "print(nb_df.describe())\n",
    "print(nb_df.info())"
   ]
  },
  {
   "cell_type": "markdown",
   "id": "starting-locking",
   "metadata": {
    "id": "starting-locking"
   },
   "source": [
    "Before feeding the data to the naive Bayes classifier model, we need to do some pre-processing.\n",
    "Here, we’ll create the x and y variables by taking them from the dataset and using the train_test_split function of scikit-learn to split the data into training and test sets."
   ]
  },
  {
   "cell_type": "code",
   "execution_count": null,
   "id": "raising-chamber",
   "metadata": {
    "id": "raising-chamber"
   },
   "outputs": [],
   "source": [
    "X = nb_df[[\"glucose\", \"bloodpressure\"]]\n",
    "y = nb_df[\"diabetes\"]"
   ]
  },
  {
   "cell_type": "code",
   "execution_count": null,
   "id": "passive-density",
   "metadata": {
    "id": "passive-density"
   },
   "outputs": [],
   "source": [
    "# Exercise: try to split the dataset into training and validation set with \n",
    "# test_size = 0.25 and random_sate = 1\n",
    "\n",
    "# Solution:\n",
    "X_train, X_test, y_train, y_test = train_test_split(X, y, test_size = 0.25, random_state = 1) # Leave this line blank for exercise"
   ]
  },
  {
   "cell_type": "code",
   "execution_count": null,
   "id": "governing-reality",
   "metadata": {
    "id": "governing-reality"
   },
   "outputs": [],
   "source": [
    "nb_model = GaussianNB()\n",
    "nb_model.fit(X_train, y_train)\n",
    "y_pred = nb_model.predict(X_test)\n",
    "y_pred"
   ]
  },
  {
   "cell_type": "markdown",
   "id": "crude-ballot",
   "metadata": {
    "id": "crude-ballot"
   },
   "source": [
    "**Model Evaluation**\n",
    "\n",
    "Finally, we need to check to see how well our model is performing on the test data. For this, we evaluate our model by finding the accuracy score produced by the model."
   ]
  },
  {
   "cell_type": "code",
   "execution_count": 33,
   "id": "floral-tract",
   "metadata": {
    "id": "floral-tract"
   },
   "outputs": [
    {
     "ename": "ValueError",
     "evalue": "Found input variables with inconsistent numbers of samples: [4, 19]",
     "output_type": "error",
     "traceback": [
      "\u001b[0;31m---------------------------------------------------------------------------\u001b[0m",
      "\u001b[0;31mValueError\u001b[0m                                Traceback (most recent call last)",
      "\u001b[0;32m<ipython-input-33-656b753b0478>\u001b[0m in \u001b[0;36m<module>\u001b[0;34m\u001b[0m\n\u001b[0;32m----> 1\u001b[0;31m \u001b[0maccuracy\u001b[0m \u001b[0;34m=\u001b[0m \u001b[0maccuracy_score\u001b[0m\u001b[0;34m(\u001b[0m\u001b[0my_pred\u001b[0m\u001b[0;34m,\u001b[0m \u001b[0my_test\u001b[0m\u001b[0;34m)\u001b[0m\u001b[0;34m*\u001b[0m\u001b[0;36m100\u001b[0m\u001b[0;34m\u001b[0m\u001b[0;34m\u001b[0m\u001b[0m\n\u001b[0m\u001b[1;32m      2\u001b[0m \u001b[0mf1\u001b[0m \u001b[0;34m=\u001b[0m \u001b[0mf1_score\u001b[0m\u001b[0;34m(\u001b[0m\u001b[0my_test\u001b[0m\u001b[0;34m,\u001b[0m \u001b[0my_pred\u001b[0m\u001b[0;34m)\u001b[0m\u001b[0;34m\u001b[0m\u001b[0;34m\u001b[0m\u001b[0m\n\u001b[1;32m      3\u001b[0m \u001b[0;31m# Avoid using variables with the same name as a function\u001b[0m\u001b[0;34m\u001b[0m\u001b[0;34m\u001b[0m\u001b[0;34m\u001b[0m\u001b[0m\n\u001b[1;32m      4\u001b[0m \u001b[0mfpr\u001b[0m\u001b[0;34m,\u001b[0m \u001b[0mtpr\u001b[0m\u001b[0;34m,\u001b[0m \u001b[0mthresholds\u001b[0m \u001b[0;34m=\u001b[0m \u001b[0mroc_curve\u001b[0m\u001b[0;34m(\u001b[0m\u001b[0my_test\u001b[0m\u001b[0;34m,\u001b[0m \u001b[0my_pred\u001b[0m\u001b[0;34m)\u001b[0m\u001b[0;34m\u001b[0m\u001b[0;34m\u001b[0m\u001b[0m\n\u001b[1;32m      5\u001b[0m \u001b[0mauc_value\u001b[0m \u001b[0;34m=\u001b[0m \u001b[0mauc\u001b[0m\u001b[0;34m(\u001b[0m\u001b[0mfpr\u001b[0m\u001b[0;34m,\u001b[0m \u001b[0mtpr\u001b[0m\u001b[0;34m)\u001b[0m\u001b[0;34m\u001b[0m\u001b[0;34m\u001b[0m\u001b[0m\n",
      "\u001b[0;32m~/.local/lib/python3.8/site-packages/sklearn/utils/validation.py\u001b[0m in \u001b[0;36minner_f\u001b[0;34m(*args, **kwargs)\u001b[0m\n\u001b[1;32m     61\u001b[0m             \u001b[0mextra_args\u001b[0m \u001b[0;34m=\u001b[0m \u001b[0mlen\u001b[0m\u001b[0;34m(\u001b[0m\u001b[0margs\u001b[0m\u001b[0;34m)\u001b[0m \u001b[0;34m-\u001b[0m \u001b[0mlen\u001b[0m\u001b[0;34m(\u001b[0m\u001b[0mall_args\u001b[0m\u001b[0;34m)\u001b[0m\u001b[0;34m\u001b[0m\u001b[0;34m\u001b[0m\u001b[0m\n\u001b[1;32m     62\u001b[0m             \u001b[0;32mif\u001b[0m \u001b[0mextra_args\u001b[0m \u001b[0;34m<=\u001b[0m \u001b[0;36m0\u001b[0m\u001b[0;34m:\u001b[0m\u001b[0;34m\u001b[0m\u001b[0;34m\u001b[0m\u001b[0m\n\u001b[0;32m---> 63\u001b[0;31m                 \u001b[0;32mreturn\u001b[0m \u001b[0mf\u001b[0m\u001b[0;34m(\u001b[0m\u001b[0;34m*\u001b[0m\u001b[0margs\u001b[0m\u001b[0;34m,\u001b[0m \u001b[0;34m**\u001b[0m\u001b[0mkwargs\u001b[0m\u001b[0;34m)\u001b[0m\u001b[0;34m\u001b[0m\u001b[0;34m\u001b[0m\u001b[0m\n\u001b[0m\u001b[1;32m     64\u001b[0m \u001b[0;34m\u001b[0m\u001b[0m\n\u001b[1;32m     65\u001b[0m             \u001b[0;31m# extra_args > 0\u001b[0m\u001b[0;34m\u001b[0m\u001b[0;34m\u001b[0m\u001b[0;34m\u001b[0m\u001b[0m\n",
      "\u001b[0;32m~/.local/lib/python3.8/site-packages/sklearn/metrics/_classification.py\u001b[0m in \u001b[0;36maccuracy_score\u001b[0;34m(y_true, y_pred, normalize, sample_weight)\u001b[0m\n\u001b[1;32m    200\u001b[0m \u001b[0;34m\u001b[0m\u001b[0m\n\u001b[1;32m    201\u001b[0m     \u001b[0;31m# Compute accuracy for each possible representation\u001b[0m\u001b[0;34m\u001b[0m\u001b[0;34m\u001b[0m\u001b[0;34m\u001b[0m\u001b[0m\n\u001b[0;32m--> 202\u001b[0;31m     \u001b[0my_type\u001b[0m\u001b[0;34m,\u001b[0m \u001b[0my_true\u001b[0m\u001b[0;34m,\u001b[0m \u001b[0my_pred\u001b[0m \u001b[0;34m=\u001b[0m \u001b[0m_check_targets\u001b[0m\u001b[0;34m(\u001b[0m\u001b[0my_true\u001b[0m\u001b[0;34m,\u001b[0m \u001b[0my_pred\u001b[0m\u001b[0;34m)\u001b[0m\u001b[0;34m\u001b[0m\u001b[0;34m\u001b[0m\u001b[0m\n\u001b[0m\u001b[1;32m    203\u001b[0m     \u001b[0mcheck_consistent_length\u001b[0m\u001b[0;34m(\u001b[0m\u001b[0my_true\u001b[0m\u001b[0;34m,\u001b[0m \u001b[0my_pred\u001b[0m\u001b[0;34m,\u001b[0m \u001b[0msample_weight\u001b[0m\u001b[0;34m)\u001b[0m\u001b[0;34m\u001b[0m\u001b[0;34m\u001b[0m\u001b[0m\n\u001b[1;32m    204\u001b[0m     \u001b[0;32mif\u001b[0m \u001b[0my_type\u001b[0m\u001b[0;34m.\u001b[0m\u001b[0mstartswith\u001b[0m\u001b[0;34m(\u001b[0m\u001b[0;34m'multilabel'\u001b[0m\u001b[0;34m)\u001b[0m\u001b[0;34m:\u001b[0m\u001b[0;34m\u001b[0m\u001b[0;34m\u001b[0m\u001b[0m\n",
      "\u001b[0;32m~/.local/lib/python3.8/site-packages/sklearn/metrics/_classification.py\u001b[0m in \u001b[0;36m_check_targets\u001b[0;34m(y_true, y_pred)\u001b[0m\n\u001b[1;32m     81\u001b[0m     \u001b[0my_pred\u001b[0m \u001b[0;34m:\u001b[0m \u001b[0marray\u001b[0m \u001b[0;32mor\u001b[0m \u001b[0mindicator\u001b[0m \u001b[0mmatrix\u001b[0m\u001b[0;34m\u001b[0m\u001b[0;34m\u001b[0m\u001b[0m\n\u001b[1;32m     82\u001b[0m     \"\"\"\n\u001b[0;32m---> 83\u001b[0;31m     \u001b[0mcheck_consistent_length\u001b[0m\u001b[0;34m(\u001b[0m\u001b[0my_true\u001b[0m\u001b[0;34m,\u001b[0m \u001b[0my_pred\u001b[0m\u001b[0;34m)\u001b[0m\u001b[0;34m\u001b[0m\u001b[0;34m\u001b[0m\u001b[0m\n\u001b[0m\u001b[1;32m     84\u001b[0m     \u001b[0mtype_true\u001b[0m \u001b[0;34m=\u001b[0m \u001b[0mtype_of_target\u001b[0m\u001b[0;34m(\u001b[0m\u001b[0my_true\u001b[0m\u001b[0;34m)\u001b[0m\u001b[0;34m\u001b[0m\u001b[0;34m\u001b[0m\u001b[0m\n\u001b[1;32m     85\u001b[0m     \u001b[0mtype_pred\u001b[0m \u001b[0;34m=\u001b[0m \u001b[0mtype_of_target\u001b[0m\u001b[0;34m(\u001b[0m\u001b[0my_pred\u001b[0m\u001b[0;34m)\u001b[0m\u001b[0;34m\u001b[0m\u001b[0;34m\u001b[0m\u001b[0m\n",
      "\u001b[0;32m~/.local/lib/python3.8/site-packages/sklearn/utils/validation.py\u001b[0m in \u001b[0;36mcheck_consistent_length\u001b[0;34m(*arrays)\u001b[0m\n\u001b[1;32m    260\u001b[0m     \u001b[0muniques\u001b[0m \u001b[0;34m=\u001b[0m \u001b[0mnp\u001b[0m\u001b[0;34m.\u001b[0m\u001b[0munique\u001b[0m\u001b[0;34m(\u001b[0m\u001b[0mlengths\u001b[0m\u001b[0;34m)\u001b[0m\u001b[0;34m\u001b[0m\u001b[0;34m\u001b[0m\u001b[0m\n\u001b[1;32m    261\u001b[0m     \u001b[0;32mif\u001b[0m \u001b[0mlen\u001b[0m\u001b[0;34m(\u001b[0m\u001b[0muniques\u001b[0m\u001b[0;34m)\u001b[0m \u001b[0;34m>\u001b[0m \u001b[0;36m1\u001b[0m\u001b[0;34m:\u001b[0m\u001b[0;34m\u001b[0m\u001b[0;34m\u001b[0m\u001b[0m\n\u001b[0;32m--> 262\u001b[0;31m         raise ValueError(\"Found input variables with inconsistent numbers of\"\n\u001b[0m\u001b[1;32m    263\u001b[0m                          \" samples: %r\" % [int(l) for l in lengths])\n\u001b[1;32m    264\u001b[0m \u001b[0;34m\u001b[0m\u001b[0m\n",
      "\u001b[0;31mValueError\u001b[0m: Found input variables with inconsistent numbers of samples: [4, 19]"
     ]
    }
   ],
   "source": [
    "accuracy = accuracy_score(y_pred, y_test)*100\n",
    "f1 = f1_score(y_test, y_pred)\n",
    "# Avoid using variables with the same name as a function\n",
    "fpr, tpr, thresholds = roc_curve(y_test, y_pred)\n",
    "auc_value = auc(fpr, tpr)"
   ]
  },
  {
   "cell_type": "code",
   "execution_count": 34,
   "id": "opened-policy",
   "metadata": {
    "id": "opened-policy"
   },
   "outputs": [
    {
     "ename": "NameError",
     "evalue": "name 'accuracy' is not defined",
     "output_type": "error",
     "traceback": [
      "\u001b[0;31m---------------------------------------------------------------------------\u001b[0m",
      "\u001b[0;31mNameError\u001b[0m                                 Traceback (most recent call last)",
      "\u001b[0;32m<ipython-input-34-0168a4606b57>\u001b[0m in \u001b[0;36m<module>\u001b[0;34m\u001b[0m\n\u001b[0;32m----> 1\u001b[0;31m \u001b[0mprint\u001b[0m\u001b[0;34m(\u001b[0m\u001b[0;34m\"Accuracy: \"\u001b[0m\u001b[0;34m,\u001b[0m \u001b[0maccuracy\u001b[0m\u001b[0;34m)\u001b[0m\u001b[0;34m\u001b[0m\u001b[0;34m\u001b[0m\u001b[0m\n\u001b[0m\u001b[1;32m      2\u001b[0m \u001b[0mprint\u001b[0m\u001b[0;34m(\u001b[0m\u001b[0;34m\"F1: \"\u001b[0m\u001b[0;34m,\u001b[0m \u001b[0mf1\u001b[0m\u001b[0;34m)\u001b[0m\u001b[0;34m\u001b[0m\u001b[0;34m\u001b[0m\u001b[0m\n\u001b[1;32m      3\u001b[0m \u001b[0mprint\u001b[0m\u001b[0;34m(\u001b[0m\u001b[0;34m\"AUC: \"\u001b[0m\u001b[0;34m,\u001b[0m \u001b[0mauc_value\u001b[0m\u001b[0;34m)\u001b[0m\u001b[0;34m\u001b[0m\u001b[0;34m\u001b[0m\u001b[0m\n",
      "\u001b[0;31mNameError\u001b[0m: name 'accuracy' is not defined"
     ]
    }
   ],
   "source": [
    "print(\"Accuracy: \", accuracy)\n",
    "print(\"F1: \", f1)\n",
    "print(\"AUC: \", auc_value)"
   ]
  },
  {
   "cell_type": "markdown",
   "id": "suspected-metropolitan",
   "metadata": {
    "id": "suspected-metropolitan"
   },
   "source": [
    "**Optional Exercise:**\n",
    "\n",
    "- Use the population dataset that we used in Ridge regression section\n",
    "- We will try to do some feature selection based on the information gain"
   ]
  },
  {
   "cell_type": "code",
   "execution_count": null,
   "id": "exclusive-tourism",
   "metadata": {
    "id": "exclusive-tourism"
   },
   "outputs": [],
   "source": [
    "gm_df.describe()"
   ]
  },
  {
   "cell_type": "code",
   "execution_count": null,
   "id": "spoken-cheese",
   "metadata": {
    "id": "spoken-cheese"
   },
   "outputs": [],
   "source": [
    "# Split the data set into trianing and validation\n",
    "# Time to practise! Please separate the read-in data\n",
    "# into training and testing sets\n",
    "X = gm_df.drop('life', axis='columns').values\n",
    "# Change continuous labels to binary labels\n",
    "gm_df['life'] = np.where(gm_df.life > 65, 1, 0)\n",
    "y = gm_df['life'].values\n",
    "X_train, X_test, y_train, y_test = train_test_split(X, y, test_size = 0.2, random_state = 0) # Leave this line blank for exercise"
   ]
  },
  {
   "cell_type": "code",
   "execution_count": null,
   "id": "pressed-standard",
   "metadata": {
    "id": "pressed-standard"
   },
   "outputs": [],
   "source": [
    "nb_model = GaussianNB()\n",
    "nb_model.fit(X_train, y_train)\n",
    "y_pred = nb_model.predict(X_test)\n",
    "# Dimensional purpose\n",
    "y_test = y_test.reshape(-1, 1)"
   ]
  },
  {
   "cell_type": "code",
   "execution_count": null,
   "id": "general-winner",
   "metadata": {
    "id": "general-winner"
   },
   "outputs": [],
   "source": [
    "accuracy = accuracy_score(y_pred, y_test)*100\n",
    "f1 = f1_score(y_test, y_pred)\n",
    "# Avoid using variables with the same name as a function\n",
    "fpr, tpr, thresholds = roc_curve(y_test, y_pred)\n",
    "auc_value = auc(fpr, tpr)"
   ]
  },
  {
   "cell_type": "code",
   "execution_count": null,
   "id": "expected-therapist",
   "metadata": {
    "id": "expected-therapist"
   },
   "outputs": [],
   "source": [
    "print(\"Accuracy: \", accuracy)\n",
    "print(\"F1: \", f1)\n",
    "print(\"AUC: \", auc_value)"
   ]
  },
  {
   "cell_type": "markdown",
   "id": "standard-violin",
   "metadata": {
    "id": "standard-violin"
   },
   "source": [
    "The model has a bad AUC and accuracy values. We will try to improve the prediction by doing some feature selection based on the training set and use only a subset of important variables as predictors."
   ]
  },
  {
   "cell_type": "markdown",
   "id": "western-tragedy",
   "metadata": {
    "id": "western-tragedy"
   },
   "source": [
    "Sklearn has the function \"mutual_info_classif\" that can be used to calculate information gain, similar to what we have seen in lecture. More information on the implementation of this can be found at:\n",
    "\n",
    "https://scikit-learn.org/stable/modules/generated/sklearn.feature_selection.mutual_info_classif.html"
   ]
  },
  {
   "cell_type": "code",
   "execution_count": null,
   "id": "neutral-brick",
   "metadata": {
    "id": "neutral-brick"
   },
   "outputs": [],
   "source": [
    "from sklearn.feature_selection import mutual_info_classif"
   ]
  },
  {
   "cell_type": "code",
   "execution_count": null,
   "id": "packed-affair",
   "metadata": {
    "id": "packed-affair"
   },
   "outputs": [],
   "source": [
    "# To see which features we have so far\n",
    "gm_df.columns"
   ]
  },
  {
   "cell_type": "code",
   "execution_count": null,
   "id": "cathedral-listing",
   "metadata": {
    "id": "cathedral-listing"
   },
   "outputs": [],
   "source": [
    "# Calculate the information gain for each feature in the data set\n",
    "information = mutual_info_classif(X_train, y_train)\n",
    "features_name = ['population', 'fertility', 'HIV', 'CO2', 'BMI_male', 'GDP', 'child_mortality']\n",
    "information_gain = dict(zip(information, features_name))"
   ]
  },
  {
   "cell_type": "code",
   "execution_count": null,
   "id": "overhead-renaissance",
   "metadata": {
    "id": "overhead-renaissance"
   },
   "outputs": [],
   "source": [
    "# Print out the dictionary we just created, with the most significant features first\n",
    "for i in sorted(information_gain, reverse = True):\n",
    "    print(str(i) + \": \" + str(information_gain[i]))\n",
    "# Print the number of features in the dictionary, so that we can verify that there are\n",
    "# as many features in the dictionary as we selected when we created the 'used_features' array\n",
    "print(len(information_gain))"
   ]
  },
  {
   "cell_type": "code",
   "execution_count": null,
   "id": "silver-induction",
   "metadata": {
    "id": "silver-induction"
   },
   "outputs": [],
   "source": [
    "# Extract feature index from the original dataset\n",
    "selected_features = ['child_mortality','fertility', 'BMI_male', 'GDP', 'HIV', 'CO2']\n",
    "feature_index_list = []\n",
    "for feature in selected_features:\n",
    "    feature_index = gm_df.columns.get_loc(feature)\n",
    "    feature_index_list.append(feature_index)"
   ]
  },
  {
   "cell_type": "code",
   "execution_count": null,
   "id": "boxed-morris",
   "metadata": {
    "id": "boxed-morris"
   },
   "outputs": [],
   "source": [
    "print(feature_index_list)"
   ]
  },
  {
   "cell_type": "code",
   "execution_count": null,
   "id": "organized-heart",
   "metadata": {
    "id": "organized-heart"
   },
   "outputs": [],
   "source": [
    "# Create a subset of the original dataset\n",
    "X_train = X_train[:, 1:7]"
   ]
  },
  {
   "cell_type": "code",
   "execution_count": null,
   "id": "muslim-lesbian",
   "metadata": {
    "id": "muslim-lesbian"
   },
   "outputs": [],
   "source": [
    "# Performce the same operation on the test dataset\n",
    "X_test = X_test[:, 1:7]"
   ]
  },
  {
   "cell_type": "code",
   "execution_count": null,
   "id": "perfect-sight",
   "metadata": {
    "id": "perfect-sight"
   },
   "outputs": [],
   "source": [
    "print(X_train.shape)\n",
    "print(X_test.shape)"
   ]
  },
  {
   "cell_type": "code",
   "execution_count": null,
   "id": "fleet-receipt",
   "metadata": {
    "id": "fleet-receipt"
   },
   "outputs": [],
   "source": [
    "nb_model = GaussianNB()\n",
    "nb_model.fit(X_train, y_train)\n",
    "y_pred = nb_model.predict(X_test)"
   ]
  },
  {
   "cell_type": "code",
   "execution_count": null,
   "id": "painted-vaccine",
   "metadata": {
    "id": "painted-vaccine"
   },
   "outputs": [],
   "source": [
    "accuracy = accuracy_score(y_pred, y_test)*100\n",
    "f1 = f1_score(y_test, y_pred)\n",
    "# Avoid using variables with the same name as a function\n",
    "fpr, tpr, thresholds = roc_curve(y_test, y_pred)\n",
    "auc_value = auc(fpr, tpr)"
   ]
  },
  {
   "cell_type": "code",
   "execution_count": null,
   "id": "surface-connecticut",
   "metadata": {
    "id": "surface-connecticut"
   },
   "outputs": [],
   "source": [
    "print(\"Accuracy: \", \"%.0f%%\" % accuracy)\n",
    "print(\"F1: \", f1)\n",
    "print(\"AUC: \", auc_value)"
   ]
  }
 ],
 "metadata": {
  "colab": {
   "name": "session_10_level_1.ipynb",
   "provenance": []
  },
  "kernelspec": {
   "display_name": "Python 3",
   "language": "python",
   "name": "python3"
  },
  "language_info": {
   "codemirror_mode": {
    "name": "ipython",
    "version": 3
   },
   "file_extension": ".py",
   "mimetype": "text/x-python",
   "name": "python",
   "nbconvert_exporter": "python",
   "pygments_lexer": "ipython3",
   "version": "3.8.5"
  }
 },
 "nbformat": 4,
 "nbformat_minor": 5
}
